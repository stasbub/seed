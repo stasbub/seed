{
  "cells": [
    {
      "cell_type": "code",
      "execution_count": null,
      "metadata": {
        "id": "harkzvEE3k26"
      },
      "outputs": [],
      "source": [
        "# Test cases file"
      ]
    },
    {
      "cell_type": "code",
      "execution_count": 2,
      "metadata": {
        "id": "-mi81ybi3tDF"
      },
      "outputs": [],
      "source": [
        "import numpy as np\n",
        "import pandas as pd\n",
        "import warnings\n",
        "warnings.filterwarnings('ignore')\n",
        "from urllib import request\n",
        "module_url = f\"https://drive.google.com/uc?export=view&id=18y6hLv2bqAyJsIXwVCty58lF0u7yimVq\"\n",
        "module_url2 = f\"https://drive.google.com/uc?export=view&id=1gjxxRtNf3hz9-DE-s9nJ_LBOgBXj2x1-\"\n",
        "module_name = 'commentary.txt'\n",
        "name2 = 'superheros.csv'\n",
        "with request.urlopen(module_url) as f, open(module_name,'w') as outf, request.urlopen(module_url2) as f2, open(name2,'w') as outf2:\n",
        "  a = f.read()\n",
        "  outf.write(a.decode('utf-8'))\n",
        "  a2 = f2.read()\n",
        "  outf2.write(a2.decode('utf-8'))"
      ]
    },
    {
      "cell_type": "code",
      "execution_count": 3,
      "metadata": {
        "id": "hdnA11cT30nP"
      },
      "outputs": [],
      "source": [
        "import c12345678 as test1\n",
        "# replace c12345678 with your own .py library file name\n",
        "# make sure this .py file is uploaded to Colab and can be seen in the folder left ;)"
      ]
    },
    {
      "cell_type": "code",
      "execution_count": 5,
      "metadata": {
        "colab": {
          "base_uri": "https://localhost:8080/"
        },
        "id": "cnE6v7FZ36t0",
        "outputId": "56e1db85-f6b3-41f7-a418-f263fb145abd"
      },
      "outputs": [
        {
          "name": "stdout",
          "output_type": "stream",
          "text": [
            "Test case 1 output is [1, 7, 5, [3, 4, 2, 104]]\n",
            "Test case 2 output is Jack#Mahmut\n"
          ]
        }
      ],
      "source": [
        "# Question 1 - Test case 1\n",
        "print('Test case 1 output is', test1.all_rounder([1, 7, 5], 'append', [3, 4, 2, 104]))\n",
        "# Test case 1 output is [1, 7, 5, [3, 4, 2, 104]]\n",
        "\n",
        "# Question 1 - Test case 2\n",
        "print('Test case 2 output is', test1.all_rounder('#', 'join', \"('Jack', 'Mahmut')\"))\n",
        "#Test case 2 output is Jack#Mahmut"
      ]
    },
    {
      "cell_type": "code",
      "execution_count": 6,
      "metadata": {
        "colab": {
          "base_uri": "https://localhost:8080/"
        },
        "id": "SSm1DJUv67hZ",
        "outputId": "6f04bc7a-4e05-454f-e84c-b43507c61483"
      },
      "outputs": [
        {
          "name": "stdout",
          "output_type": "stream",
          "text": [
            "[[   4.    6.  -95.  -94.]\n",
            " [  -8.    5. -100. -105.]]\n",
            "\n",
            "    Definition: This function calculates numpy brodcasting operation\n",
            "                when the dimensions of the arrays do not satisfy the rules.\n",
            "\n",
            "    Input: There are four input arguments:\n",
            "            func: numpy function to be used\n",
            "            a, b: arrays to be used in the given function\n",
            "            pad: number to be padded\n",
            "\n",
            "    Output: This function returns a single numpy array which is the output of\n",
            "            the padded broadcasting operation.\n",
            "    \n"
          ]
        }
      ],
      "source": [
        "# Question 2 - Test case 1\n",
        "a = np.asarray([[1,2],[-9, 4]])\n",
        "b = np.asarray([[3,4,5,6],[1,1,0,-5]])\n",
        "print(test1.padded_broadcasting(np.add, a, b, -100))\n",
        "# [[   4.    6.  -95.  -94.]\n",
        "# [  -8.    5. -100. -105.]]\n",
        "\n",
        "# Question 2 - Quality check case\n",
        "print(test1.padded_broadcasting.__doc__)\n",
        "#    Definition:\n",
        "#\n",
        "#    Input:\n",
        "#\n",
        "#    Output:"
      ]
    },
    {
      "cell_type": "code",
      "execution_count": 9,
      "metadata": {
        "colab": {
          "base_uri": "https://localhost:8080/"
        },
        "id": "gbqrzBaT7v4B",
        "outputId": "8094dc8c-fc57-46a5-e427-bfdceefd4f26"
      },
      "outputs": [
        {
          "name": "stdout",
          "output_type": "stream",
          "text": [
            "59.8\n",
            "241.0\n"
          ]
        }
      ],
      "source": [
        "# Question 3 - Test case 1\n",
        "print(test1.txtanalyser('commentary.txt', 'RED-CARD!', np.mean, 'find'))\n",
        "# 59.8\n",
        "# Question 3 - Test case 2\n",
        "print(test1.txtanalyser('commentary.txt', 'GOOOOOAAL!', np.log, 'count'))\n",
        "# 241.0"
      ]
    },
    {
      "cell_type": "code",
      "execution_count": 11,
      "metadata": {
        "colab": {
          "base_uri": "https://localhost:8080/"
        },
        "id": "eGtOjnvL8DUo",
        "outputId": "6c925c12-4eee-4902-93f3-b83a933d51da"
      },
      "outputs": [
        {
          "name": "stdout",
          "output_type": "stream",
          "text": [
            "Dimitrios Giannoulis hand-balls.\n"
          ]
        }
      ],
      "source": [
        "# Question 4 - Test case 1\n",
        "res = test1.find_alphabetical_order('commentary.txt', check_ties=True)\n",
        "print(res[0])\n",
        "# Dimitrios Giannoulis hand-balls."
      ]
    },
    {
      "cell_type": "code",
      "execution_count": 12,
      "metadata": {
        "colab": {
          "base_uri": "https://localhost:8080/"
        },
        "id": "5Gh3Ps6D8Wb3",
        "outputId": "fefd248a-f5a9-43e5-85b1-1a860c09a77c"
      },
      "outputs": [
        {
          "name": "stdout",
          "output_type": "stream",
          "text": [
            "0               Abraxas\n",
            "1                 Amazo\n",
            "2          Anti-Monitor\n",
            "3            Anti-Venom\n",
            "4            Apocalypse\n",
            "5               Bizarro\n",
            "6            Black Adam\n",
            "7              Brainiac\n",
            "8        Captain Marvel\n",
            "9       Cyborg Superman\n",
            "10             Darkseid\n",
            "11            Destroyer\n",
            "12             Doomsday\n",
            "13         Doppelganger\n",
            "14             Dormammu\n",
            "15        Fallen One II\n",
            "16                Faora\n",
            "17             Galactus\n",
            "18          General Zod\n",
            "19                 Goku\n",
            "20                 Hulk\n",
            "21             Hyperion\n",
            "22            Jean Grey\n",
            "23           Juggernaut\n",
            "24                Magus\n",
            "25    Martian Manhunter\n",
            "26                Match\n",
            "27                 Nova\n",
            "28            Onslaught\n",
            "29              Phoenix\n",
            "30           Power Girl\n",
            "31             Red Hulk\n",
            "32             She-Hulk\n",
            "33        Silver Surfer\n",
            "34             Stardust\n",
            "35             Superboy\n",
            "36       Superboy-Prime\n",
            "37            Supergirl\n",
            "38             Superman\n",
            "39               Thanos\n",
            "40                 Thor\n",
            "41          War Machine\n",
            "42              Warlock\n",
            "43         Wonder Woman\n",
            "Name: Name, dtype: object\n"
          ]
        }
      ],
      "source": [
        "# Question 5 - Test case 1\n",
        "a,b,c,d = test1.pd_query()\n",
        "print(d['Name'])"
      ]
    }
  ],
  "metadata": {
    "colab": {
      "provenance": []
    },
    "kernelspec": {
      "display_name": "Python 3",
      "name": "python3"
    },
    "language_info": {
      "name": "python"
    }
  },
  "nbformat": 4,
  "nbformat_minor": 0
}
