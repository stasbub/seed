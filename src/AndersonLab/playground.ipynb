{
 "cells": [
  {
   "cell_type": "markdown",
   "metadata": {
    "id": "oJ34uxMILElC"
   },
   "source": [
    "#CMT309 – Coursework I Playground"
   ]
  },
  {
   "cell_type": "code",
   "execution_count": 4,
   "metadata": {
    "id": "7PRe1FadWJR-"
   },
   "outputs": [],
   "source": [
    "import numpy as np\n",
    "import string\n",
    "import pandas as pd\n",
    "import re\n",
    "# the code block below is directly downloading commentary.txt and superheros.csv into your drive folder. Please just run it and do not comment out.\n",
    "from urllib import request\n",
    "module_url = f\"https://drive.google.com/uc?export=view&id=18y6hLv2bqAyJsIXwVCty58lF0u7yimVq\"\n",
    "module_url2 = f\"https://drive.google.com/uc?export=view&id=1gjxxRtNf3hz9-DE-s9nJ_LBOgBXj2x1-\"\n",
    "module_name = 'commentary.txt'\n",
    "name2 = 'superheros.csv'\n",
    "# with request.urlopen(module_url) as f, open(module_name,'w') as outf, request.urlopen(module_url2) as f2, open(name2,'w') as outf2:\n",
    "#   a = f.read()\n",
    "#   outf.write(a.decode('utf-8'))\n",
    "#   a2 = f2.read()\n",
    "#   outf2.write(a2.decode('utf-8'))"
   ]
  },
  {
   "cell_type": "markdown",
   "metadata": {
    "id": "chNk-ME_LW_7"
   },
   "source": [
    "##Q1.) Basic Programming (5 marks)\n",
    "\n",
    "*(This will test your general Python and programming knowledge for creating a function and utilisation of some techniques of strings, lists, etc.)*"
   ]
  },
  {
   "cell_type": "markdown",
   "metadata": {
    "id": "6OknZP4LZLD3"
   },
   "source": [
    "Write a function `all_rounder(*args)` that performs passed sequence method of a given sequence. The inputs will be in form, e.g. `all_rounder([1, 5], 'append', [3, 4, 2, 104])`. This function should create a list variable to store `[1, 5]`, then `.append()` the second list of `[3, 4, 2, 104]` to it. The final list should be returned and will be in a form of `[1, 5, [3, 4, 2, 104]]`.\n",
    "\n",
    "The input argument storing variable `args` could include any kind of sequence types of `str`, `list`, `tuple` and `dict`. Depending on the passed sequence type, `args` should also include a method, and depending on the method some more entries.\n",
    "\n",
    "The function `all_rounder()` should only perform one operation at a time. Test cases will never pass more than one sequence type and more than one sequence method.\n",
    "\n",
    "Your function should return a message when a non-existing sequence method entered, and must not return an error.\n",
    "\n",
    "*Hint 1: Using `eval(), compile(), exec()` might be useful.*\n",
    "\n",
    "*Hint 2: Avoid using `try` ... `catch` and some extra libraries. This question solely be created via basic Python commands.*\n",
    "\n",
    "An example test case is given below:\n",
    "\n",
    "```python\n",
    ">>> all_rounder('#', 'join', \"('Jack', 'Mahmut')\")\n",
    "'Jack#Mahmut'\n",
    "```"
   ]
  },
  {
   "cell_type": "code",
   "execution_count": 203,
   "metadata": {},
   "outputs": [
    {
     "data": {
      "text/plain": [
       "'Jack#Mahmut'"
      ]
     },
     "execution_count": 203,
     "metadata": {},
     "output_type": "execute_result"
    }
   ],
   "source": [
    "sequence = '#'\n",
    "method = 'join'\n",
    "data = \"('Jack', 'Mahmut')\"\n",
    "\n",
    "if isinstance(sequence, str):\n",
    "    try:\n",
    "        sequence_obj = eval(sequence)\n",
    "    except SyntaxError:\n",
    "        sequence_obj = eval(f'\"{sequence}\"')\n",
    "else:\n",
    "    sequence_obj = sequence\n",
    "if isinstance(data, str):\n",
    "    try:\n",
    "        data_obj = eval(data)\n",
    "    except SyntaxError:\n",
    "        data_obj = eval(f'\"{data}\"')\n",
    "else:\n",
    "    data_obj = data\n",
    "\n",
    "method_func = getattr(sequence_obj, method)\n",
    "method_func(data_obj)\n"
   ]
  },
  {
   "cell_type": "code",
   "execution_count": 205,
   "metadata": {
    "id": "-0xwoyKBLDtZ"
   },
   "outputs": [
    {
     "name": "stdout",
     "output_type": "stream",
     "text": [
      "Test case 1 output is [1, 7, 5, [3, 4, 2, 104]]\n",
      "Test case 2 output is Jack#Mahmut\n"
     ]
    }
   ],
   "source": [
    "def all_rounder(*args):\n",
    "\n",
    "    if len(args) != 3:\n",
    "        return \"Invalid number of arguments\"\n",
    "\n",
    "    sequence, method, data = args\n",
    "\n",
    "    if isinstance(sequence, str):\n",
    "        try:\n",
    "            sequence_obj = eval(sequence)\n",
    "        except SyntaxError:\n",
    "            sequence_obj = eval(f'\"{sequence}\"')\n",
    "    else:\n",
    "        sequence_obj = sequence\n",
    "\n",
    "    if isinstance(data, str):\n",
    "        try:\n",
    "            data_obj = eval(data)\n",
    "        except SyntaxError:\n",
    "            data_obj = eval(f'\"{data}\"')\n",
    "    else:\n",
    "        data_obj = data\n",
    "\n",
    "    if not hasattr(sequence_obj, method):\n",
    "        return f\"Invalid method '{method}' for the given sequence type\"\n",
    "\n",
    "    method_func = getattr(sequence_obj, method)\n",
    "\n",
    "    if isinstance(sequence_obj, str):\n",
    "        return method_func(data_obj)\n",
    "    else:\n",
    "        method_func(data_obj)\n",
    "        return sequence_obj\n",
    "\n",
    "# Question 1 - Test case 1\n",
    "print('Test case 1 output is', all_rounder([1, 7, 5], 'append', [3, 4, 2, 104]))\n",
    "# Test case 1 output is [1, 7, 5, [3, 4, 2, 104]]\n",
    "\n",
    "# Question 1 - Test case 2\n",
    "print('Test case 2 output is', all_rounder('#', 'join', '(\\'Jack\\', \\'Mahmut\\')'))\n",
    "#Test case 2 output is Jack#Mahmut"
   ]
  },
  {
   "cell_type": "markdown",
   "metadata": {
    "id": "qDJI8290LdrY"
   },
   "source": [
    "## Q2.) NumPy (5 Marks)\n",
    "\n",
    "(This will test the general `numpy` knowledge with a math related question.)"
   ]
  },
  {
   "cell_type": "markdown",
   "metadata": {
    "id": "lp9_6u_3xnR_"
   },
   "source": [
    "Write a function `padded_broadcasting(func, a, b, pad)` that takes the\n",
    "arguments `func, a, b` and `pad`. Here `a` and `b` are the `numpy` arrays and `func` represents the arithmetic function (e.g. `np.add`). `pad` represents the number used for padding.\n",
    "\n",
    "For instance, if `pad=2` then the smaller array gets padded with `2`’s.\n",
    "\n",
    "The function returns a `numpy ndarray` which is the result of the operation `func` applied to the two arrays using appropriate padding. The solution needs to work with all basic mathematical operations, that is addition, subtraction, multiplication, division, and taking a power needs to be implemented.\n",
    "\n",
    "`a` and `b` can have a different number of dimensions.\n",
    "\n",
    "`a` and `b` can have mismatches on one, multiple, or even all dimensions, e.g. `(6, 2, 3)` and `(5, 3, 2)`.\n",
    "\n",
    "You may have to pad `a`, or `b`, or both arrays. Do not apply any padding if it is not necessary i.e. when standard broadcasting works.\n",
    "\n",
    "The default argument for `pad` should be 1.\n",
    "\n",
    "An example test case is given below:\n",
    "\n",
    "```python\n",
    ">>> a = np.asarray([[1,2],[-9, 4]])\n",
    ">>> b = np.asarray([[3,4,5,6],[1,1,0,-5]])\n",
    ">>> print(test1.padded_broadcasting(np.add, a, b, -100))\n",
    "\n",
    "[[   4.    6.  -95.  -94.]\n",
    "[  -8.    5. -100. -105.]]\n",
    "```"
   ]
  },
  {
   "cell_type": "code",
   "execution_count": 135,
   "metadata": {
    "id": "qnaHxHr-19hX"
   },
   "outputs": [
    {
     "name": "stdout",
     "output_type": "stream",
     "text": [
      "[[   4    6  -95  -94]\n",
      " [  -8    5 -100 -105]]\n"
     ]
    }
   ],
   "source": [
    "def padded_broadcasting(func, a, b, pad=1):\n",
    "\n",
    "    a_length = a.shape[1]\n",
    "    b_length = b.shape[1]\n",
    "\n",
    "    length_dif = abs(a_length - b_length)\n",
    "\n",
    "    a_width = a.shape[0]\n",
    "    b_width = b.shape[0]\n",
    "\n",
    "    width_dif = abs(a_width - b_width)\n",
    "\n",
    "    if a_width > b_width and a_length > b_length:\n",
    "\n",
    "        pad_width = ((0, width_dif), (0, length_dif))\n",
    "\n",
    "        b = np.pad(a, pad_width=pad_width, mode='constant', constant_values=pad)\n",
    "\n",
    "    elif b_width > a_width and b_length > a_length:\n",
    "\n",
    "        pad_width = ((0, width_dif), (0, length_dif))\n",
    "\n",
    "        a = np.pad(a, pad_width=pad_width, mode='constant', constant_values=pad)\n",
    "\n",
    "    elif a_width > b_width and b_length > a_length:\n",
    "\n",
    "        a_pad_width = ((0, 0), (0, length_dif))\n",
    "\n",
    "        a = np.pad(a, pad_width=a_pad_width, mode='constant', constant_values=pad)\n",
    "\n",
    "        b_pad_width = ((0, width_dif), (0, 0))\n",
    "\n",
    "        b = np.pad(a, pad_width=b_pad_width, mode='constant', constant_values=pad)\n",
    "\n",
    "    elif b_width > a_width and a_length > b_length:\n",
    "\n",
    "        b_pad_width = ((0, 0), (0, length_dif))\n",
    "\n",
    "        b = np.pad(a, pad_width=b_pad_width, mode='constant', constant_values=pad)\n",
    "\n",
    "        a_pad_width = ((0, width_dif), (0, 0))\n",
    "\n",
    "        a = np.pad(a, pad_width=a_pad_width, mode='constant', constant_values=pad)\n",
    "\n",
    "    elif b_width > a_width and a_length == b_length:\n",
    "\n",
    "        a_pad_width = ((0, width_dif), (0, 0))\n",
    "\n",
    "        a = np.pad(a, pad_width=a_pad_width, mode='constant', constant_values=pad)\n",
    "\n",
    "    elif b_width < a_width and a_length == b_length:\n",
    "\n",
    "        b_pad_width = ((0, width_dif), (0, 0))\n",
    "\n",
    "        b = np.pad(a, pad_width=b_pad_width, mode='constant', constant_values=pad)\n",
    "\n",
    "    elif b_width == a_width and b_length > a_length:\n",
    "\n",
    "        a_pad_width = ((0, 0), (0, length_dif))\n",
    "\n",
    "        a = np.pad(a, pad_width=a_pad_width, mode='constant', constant_values=pad)\n",
    "\n",
    "    elif b_width == a_width and a_length > b_length:\n",
    "\n",
    "        b_pad_width = ((0, 0), (0, length_dif))\n",
    "\n",
    "        b = np.pad(a, pad_width=b_pad_width, mode='constant', constant_values=pad)\n",
    "    \n",
    "    result = func(a, b)\n",
    "    \n",
    "    return result\n",
    "\n",
    "a = np.asarray([[1,2],[-9, 4]])\n",
    "b = np.asarray([[3,4,5,6],[1,1,0,-5]])\n",
    "print(padded_broadcasting(np.add, a, b, -100))"
   ]
  },
  {
   "cell_type": "markdown",
   "metadata": {
    "id": "i9ZoIy1RLkNT"
   },
   "source": [
    "##Q3.) NumPy 2 - txt file analysis (5 Marks)\n",
    "(For this question, a .txt file will be given. You are going to use `numpy` methods to load, read and process the file for calculations, e.g. counting the number of a given word.)\n"
   ]
  },
  {
   "cell_type": "markdown",
   "metadata": {
    "id": "U24gFQcNaBYg"
   },
   "source": [
    "Write a function `txtanalyser(fname, t, f, sel)` that takes a `.txt` file name (`fname`) of football commentary as its input and performs various analyses for the target word (`t`).\n",
    "\n",
    "The developed `txtanalyser(fname, t, f, sel)` function is expected to load the .txt file via `numpy` functions.\n",
    "\n",
    "The loaded file in fact has two columns for each line seperated by tabs: `'Minute'` and `'Commentary'` where the former refers to the minute in the game and the latter is the commentary in that minute. And example visual of your txt file is\n",
    "\n",
    "```\n",
    "90\tJoel Matip relieves the pressure with a clearance\n",
    "90\tEmerson Royal puts in a cross...\n",
    "90\tSafe hands from Hugo Lloris as he comes out and claims the ball\n",
    "```\n",
    "\n",
    "Following this, the function should carry on funding each repetition of the target word `t` and perform calculation depending on the given (`f, sel`) pair:\n",
    "\n",
    " - Function `f` can be any `numpy` function and should be in form `np.`, e.g. `f = np.max`.\n",
    " - if `sel` is `'count'`, then `f` should automatically be assigned to `np.sum` whatever passed for `f` as the function argument. Then, for this selection, your function should calculate the number of times the target word `t` appears in the commentary column of the txt file.\n",
    " - if `sel` is `'find'`, then your function should calculate the passed `f` function for the minutes column of the txt file. *Hint: Average minutes where 'RED-CARD' word was in the commentary --> `f` is `np.mean` and `t` is `'RED-CARD'`*.\n",
    "\n",
    "\n",
    "**Rules:**\n",
    " - Using file I/O functions is **not permitted**\n",
    " - Using `pandas` for data handling and processing **is not permitted**."
   ]
  },
  {
   "cell_type": "code",
   "execution_count": 45,
   "metadata": {
    "id": "JDXGRqu9-3AE"
   },
   "outputs": [
    {
     "name": "stdout",
     "output_type": "stream",
     "text": [
      "273\n"
     ]
    }
   ],
   "source": [
    "def txtanalyser(fname, t, f, sel):\n",
    "\n",
    "    data = np.loadtxt(fname, delimiter='\\t', dtype=str, comments=None, encoding=None)\n",
    "\n",
    "    minutes = data[1:, 0].astype(int)\n",
    "    commentary = data[1:, 1]\n",
    "\n",
    "    if sel == 'count':\n",
    "\n",
    "        f = np.sum\n",
    "\n",
    "        result = f(np.char.count(commentary, t))\n",
    "\n",
    "    elif sel == 'find':\n",
    "\n",
    "        indices = np.where(np.char.find(commentary, t) != -1)\n",
    "\n",
    "        result = f(minutes[indices])\n",
    "\n",
    "    return result\n",
    "\n",
    "print(txtanalyser('commentary.txt', 'GOOOOOAAL!', np.log, 'count'))"
   ]
  },
  {
   "cell_type": "markdown",
   "metadata": {
    "id": "a955mvWyXoSj"
   },
   "source": [
    "## Q4) NumPy & regex (10 marks)\n",
    "\n",
    "### Find commentary in alphabetical order (8 Marks)\n",
    "\n",
    "In this question, your goal is to find all the commentaries whose words are arranged so that their first letters are in alphabetical order. For example:\n",
    "\n",
    "- `Bernardo Silva walks` (because `b, s, w`)\n",
    "\n",
    "but not\n",
    "\n",
    "- `Bernardo Silva leaves` (because `b, s, l`, i.e., `l` comes before `s` in the alphabet)\n",
    "\n",
    "You must implement a function called `find_alphabetical_order(fpath, check_ties=True)` that takes in two arguments:\n",
    "\n",
    "- `fpath`: A `string` pointing to the `commentary.txt` file. Note that your function is only expected to handle the format in this file, i.e., `minute<tab>commentary`.\n",
    "- `check_ties`: A `boolean` value. If set to `True`, your function must handle cases when the first letter of two consecutive words is _the same_. For example, `rearranging recovery`. Specifically,\n",
    "  - if `check_ties` is `True`, you must continue making pairwise checkings between letters in the word until you find a tie breaker (in the example, you would check first the `r`, which is a tie, then the `e`, which is another tie, then `a` vs `c`, since `a` is before `c`, we can determine that `rearranging recovery` is in alphabetical order.\n",
    "  - If this flag is set to `False`, your code should only compare **the first letters of two consecutive words**, and if any two words start with **the same letter, they are not considered** to be in alphabetical order, and so **the whole sentence should also not be considered** to be in alphabetical order.\n",
    "\n",
    "Notes:\n",
    "\n",
    "- Your code must only look at words, not punctuation marks. In a sentence `this is a sentence, do I like it? I think so!`, you must clean out `,`, `?` and `!`.\n",
    "\n",
    "- Your code must handle special characters like _accents_ or the `Ñ` letter (like `árbitro`, `reducción` or `España`, these are Spanish words). This is because some comments may not be in English. The way to handle accents is to look for them and replace them with the non-accented version, or with an `N` in the case of `Ñ`. You must handle both upper and lower case occurrences of these characters.\n",
    "\n",
    "- You may create additional functions to help break down some of the functionalities outside of `find_alphabetical_order()`.\n",
    "\n",
    "\n",
    "- **IMPORTANT: You must use regular expressions in at least one** of the following steps:\n",
    "  - clean the text from punctuation\n",
    "  - turn Spanish characters into English characters\n",
    "  - comparing letters\n",
    "\n",
    "An example test case is given below:\n",
    "\n",
    "```python\n",
    ">>> res = find_alphabetical_order('commentary.txt', check_ties=True)\n",
    ">>> print(res[0])\n",
    "\n",
    "Dimitrios Giannoulis hand-balls.\n",
    "```"
   ]
  },
  {
   "cell_type": "code",
   "execution_count": null,
   "metadata": {
    "id": "v14PmvI5LTcJ"
   },
   "outputs": [],
   "source": [
    "def find_alphabetical_order():\n",
    "    # your code here\n",
    "    pass"
   ]
  },
  {
   "cell_type": "markdown",
   "metadata": {
    "id": "MPmir6FlhDcs"
   },
   "source": [
    "### Using values in `res` answer the questions below (2 Marks)\n",
    "\n",
    "Add your answers for the questions below as comments in the `find_alphanumerical_order()` function.\n",
    "\n",
    " - **Commentary languages (1 Mark)**: How many English comments did we find after calling `find_alphanumerical_order(PATH_TO_COMMENTARY_FILE, check_ties=True)`?\n",
    "\n",
    " - **Name 3 footballers (1 Mark)**: Name 3 footballers that appear in comments returned by `find_alphanumerical_order(PATH_TO_COMMENTARY_FILE, check_ties=True)`.\n",
    "\n",
    " E.g.\n",
    "```python\n",
    "# Commentary languages (1 Mark): How many English comments did we find:\n",
    "# My answer is 12423523252 ....\n",
    "#\n",
    "#Name 3 footballers (1 Mark): Name 3 footballers that appear in comments:\n",
    "# My answer is: Oktay, Luis and Sam.\n",
    "```"
   ]
  },
  {
   "cell_type": "markdown",
   "metadata": {
    "id": "Z8idwVIILmPK"
   },
   "source": [
    "## Q5) Pandas (5 marks)\n",
    "(Testing pandas usage and one-liner queries.)"
   ]
  },
  {
   "cell_type": "markdown",
   "metadata": {
    "id": "JQhBxweoSR8J"
   },
   "source": [
    "Create a function `pd_query()` that takes no input arguments. This function should *locally* load `superheros.csv` file which stores power-related information about Marvel superheros. 3 example rows are given below:\n",
    "\n",
    "```\n",
    "|    | Name       | Alignment   |   Intelligence |   Strength |   Speed |   Durability |   Power |   Combat |   Total |\n",
    "|---:|:-----------|:------------|---------------:|-----------:|--------:|-------------:|--------:|---------:|--------:|\n",
    "|  0 | 3-D Man    | good        |             50 |         31 |      43 |           32 |      25 |       52 |     233 |\n",
    "|  1 | A-Bomb     | good        |             38 |        100 |      17 |           80 |      17 |       64 |     316 |\n",
    "|  2 | Abe Sapien | good        |             88 |         14 |      35 |           42 |      35 |       85 |     299 |\n",
    "```\n",
    "\n",
    "**Rules:**\n",
    "\n",
    " - The function `pd_query()` should implement 4 queries below and **return a data frame for each** in a `tuple`.\n",
    " - All pandas query should be a **ONE-LINER**. Implementations more than 1-line will not be evaluated.\n",
    "\n",
    "**Queries:**\n",
    "\n",
    "Return a dataframe which stores\n",
    " - (1 mark) superheros who are *good*, has greater than 80 intelligence but lower than 20 speed.\n",
    " - (1 mark) average values of each column for superheros with durability value of 120.\n",
    " - (1 mark) average Total values of good and bad superheros.\n",
    " - (2 marks) names of superheros who has at least 3 column values better than Iron Man (*incl. `Total`*).\n",
    "\n",
    "\n"
   ]
  },
  {
   "cell_type": "code",
   "execution_count": 134,
   "metadata": {
    "id": "agfp1KkpLmXm"
   },
   "outputs": [
    {
     "data": {
      "text/plain": [
       "(                 Name Alignment  Intelligence  Strength  Speed  Durability  \\\n",
       " 198    Doctor Strange      good           100        10     12          84   \n",
       " 311         JJ Powell      good            88        10      8          10   \n",
       " 384  Mister Fantastic      good           100        10     18          70   \n",
       " 440       Professor X      good           100         8     12          14   \n",
       " 606      Yellowjacket      good            88        10     12          28   \n",
       " \n",
       "      Power  Combat  Total  \n",
       " 198    100      60    366  \n",
       " 311     14      10    140  \n",
       " 384     32      64    294  \n",
       " 440     90      32    256  \n",
       " 606     12      14    164  ,\n",
       "          Name Alignment  Intelligence  Strength  Speed  Durability  Power  \\\n",
       " 201  Doomsday       bad            88        80     67         120    100   \n",
       " \n",
       "      Combat  Total  \n",
       " 201      90    545  ,\n",
       "   Alignment       Total\n",
       " 0       bad  247.212121\n",
       " 1      good  214.990741\n",
       " 2   neutral  355.363636,\n",
       "                   Name Alignment  Intelligence  Strength  Speed  Durability  \\\n",
       " 5              Abraxas       bad            88       100     83          99   \n",
       " 16               Amazo       bad            75       100    100         100   \n",
       " 26        Anti-Monitor       bad            88        90     38          90   \n",
       " 29          Apocalypse       bad           100       100     33         100   \n",
       " 82             Bizarro   neutral            75        95    100         100   \n",
       " 84          Black Adam       bad            88       100     92         100   \n",
       " 171    Cyborg Superman       bad            75        93     92         100   \n",
       " 180           Darkseid       bad            88       100     23         100   \n",
       " 201           Doomsday       bad            88        80     67         120   \n",
       " 203           Dormammu       bad            88        95     83         100   \n",
       " 218      Fallen One II       bad            88        85     83         100   \n",
       " 219              Faora       bad            88        95     75         100   \n",
       " 238           Galactus   neutral           100       100     83         100   \n",
       " 242        General Zod       bad            94       100     96         100   \n",
       " 251               Goku      good            56       100     75          90   \n",
       " 306          Jean Grey      good           100        80     67         100   \n",
       " 356              Magus       bad            88       100     70          99   \n",
       " 361  Martian Manhunter      good           100       100     96         100   \n",
       " 365              Match       bad            75        95     83          85   \n",
       " 417               Nova      good           100        85     67         101   \n",
       " 422          Onslaught       bad            88        85     47         100   \n",
       " 433            Phoenix      good           100        80     67         100   \n",
       " 525           Stardust      good            88        85    100         110   \n",
       " 535     Superboy-Prime       bad            94       100    100         100   \n",
       " 536          Supergirl      good            94        98     92         100   \n",
       " 537           Superman      good           100       100    100         100   \n",
       " 546               Thor      good            69       100     92         100   \n",
       " \n",
       "      Power  Combat  Total  \n",
       " 5      100      56    526  \n",
       " 16     100     100    575  \n",
       " 26     100      90    496  \n",
       " 29     100      60    493  \n",
       " 82      95      85    550  \n",
       " 84      89      56    525  \n",
       " 171    100      80    540  \n",
       " 180    100      95    506  \n",
       " 201    100      90    545  \n",
       " 203    100      80    546  \n",
       " 218    100      56    512  \n",
       " 219     87      90    535  \n",
       " 238    100      70    553  \n",
       " 242     94      95    579  \n",
       " 251    100     100    521  \n",
       " 306    100      70    517  \n",
       " 356    100      74    531  \n",
       " 361    100      85    581  \n",
       " 365     90      70    498  \n",
       " 417    100      85    538  \n",
       " 422    100      85    505  \n",
       " 433    100      70    517  \n",
       " 525    100      85    568  \n",
       " 535    100      85    579  \n",
       " 536     85      75    544  \n",
       " 537     94      85    579  \n",
       " 546    100      85    546  )"
      ]
     },
     "execution_count": 134,
     "metadata": {},
     "output_type": "execute_result"
    }
   ],
   "source": [
    "def pd_query():\n",
    "\n",
    "    df = pd.read_csv(\"superhero.csv\")\n",
    "\n",
    "    good_smart_slow = df.query(\"Alignment == 'good' & Intelligence > 80 & Speed < 20\")\n",
    "\n",
    "    durable_doomsday = df.query(\"Durability == 120\")\n",
    "\n",
    "    avg_total = df.groupby(\"Alignment\").agg({\"Total\": \"mean\"}).reset_index()\n",
    "\n",
    "    better_ironman = df[((df.iloc[:, 2:8] > df.loc[df['Name'] == 'Iron Man'].iloc[0, 2:8]).sum(axis=1) >= 2) & ((df.iloc[:, 8:] > df.loc[df['Name'] == 'Iron Man'].iloc[0, 8:]).sum(axis=1) == 1)]\n",
    "\n",
    "    return good_smart_slow, durable_doomsday, avg_total, better_ironman\n",
    "\n",
    "pd_query()"
   ]
  }
 ],
 "metadata": {
  "colab": {
   "provenance": []
  },
  "kernelspec": {
   "display_name": "Python 3 (ipykernel)",
   "language": "python",
   "name": "python3"
  },
  "language_info": {
   "codemirror_mode": {
    "name": "ipython",
    "version": 3
   },
   "file_extension": ".py",
   "mimetype": "text/x-python",
   "name": "python",
   "nbconvert_exporter": "python",
   "pygments_lexer": "ipython3",
   "version": "3.11.7"
  }
 },
 "nbformat": 4,
 "nbformat_minor": 1
}
