{
 "cells": [
  {
   "cell_type": "markdown",
   "metadata": {},
   "source": [
    "# Test Assignement"
   ]
  },
  {
   "cell_type": "markdown",
   "metadata": {},
   "source": [
    "## Q1. Basic Programming"
   ]
  },
  {
   "cell_type": "code",
   "execution_count": 91,
   "metadata": {},
   "outputs": [
    {
     "name": "stdout",
     "output_type": "stream",
     "text": [
      "Jack#Mahmut\n"
     ]
    }
   ],
   "source": [
    "def all_rounder(*args):\n",
    "    if len(args) != 3:\n",
    "        return \"Invalid number of arguments\"\n",
    "\n",
    "    sequence, method, data = args\n",
    "\n",
    "    # Enclose the sequence in quotes to ensure it is evaluated as a string\n",
    "    sequence_obj = eval(f'\"{sequence}\"')\n",
    "    data_obj = eval(f\"{data}\")\n",
    "\n",
    "    # Check if the method exists for the given sequence type\n",
    "    if not hasattr(sequence_obj, method):\n",
    "        return f\"Invalid method '{method}' for the given sequence type\"\n",
    "\n",
    "    # Get the method function\n",
    "    method_func = getattr(sequence_obj, method)\n",
    "\n",
    "    # Perform the operation\n",
    "    result = method_func(data_obj)\n",
    "\n",
    "    # Return the result\n",
    "    return result\n",
    "\n",
    "# Example test case\n",
    "result = all_rounder('#', 'join', \"('Jack', 'Mahmut')\")\n",
    "print(result)"
   ]
  },
  {
   "cell_type": "markdown",
   "metadata": {},
   "source": [
    "## Q2. NumPy"
   ]
  },
  {
   "cell_type": "code",
   "execution_count": 98,
   "metadata": {},
   "outputs": [
    {
     "name": "stdout",
     "output_type": "stream",
     "text": [
      "(array([[ 1,  2],\n",
      "       [-9,  4]]), array([[ 3,  4,  5,  6],\n",
      "       [ 1,  1,  0, -5]]))\n"
     ]
    }
   ],
   "source": [
    "import numpy as np\n",
    "\n",
    "def padded_broadcasting(func, a, b, pad=1):\n",
    "\n",
    "    a_length = a.shape[1]\n",
    "    b_length = b.shape[1]\n",
    "\n",
    "    length_dif = abs(a_length - b_length)\n",
    "\n",
    "    a_width = a.shape[0]\n",
    "    b_width = b.shape[0]\n",
    "\n",
    "    width_dif = abs(a_width - b_width)\n",
    "\n",
    "    if a_width > b_width and a_length > b_length:\n",
    "\n",
    "        pad_width = ((0, width_dif), (0, length_dif))\n",
    "\n",
    "        b = np.pad(a, pad_width=pad_width, mode='constant', constant_values=pad)\n",
    "\n",
    "    elif b_width > a_width and b_length > a_length:\n",
    "\n",
    "        pad_width = ((0, width_dif), (0, length_dif))\n",
    "\n",
    "        a = np.pad(a, pad_width=pad_width, mode='constant', constant_values=pad)\n",
    "\n",
    "    elif a_width > b_width and b_length > a_length:\n",
    "\n",
    "        a_pad_width = ((0, 0), (0, length_dif))\n",
    "\n",
    "        a = np.pad(a, pad_width=a_pad_width, mode='constant', constant_values=pad)\n",
    "\n",
    "        b_pad_width = ((0, width_dif), (0, 0))\n",
    "\n",
    "        b = np.pad(a, pad_width=b_pad_width, mode='constant', constant_values=pad)\n",
    "\n",
    "    elif b_width > a_width and a_length > b_length:\n",
    "\n",
    "        b_pad_width = ((0, 0), (0, length_dif))\n",
    "\n",
    "        b = np.pad(a, pad_width=b_pad_width, mode='constant', constant_values=pad)\n",
    "\n",
    "        a_pad_width = ((0, width_dif), (0, 0))\n",
    "\n",
    "        a = np.pad(a, pad_width=a_pad_width, mode='constant', constant_values=pad)\n",
    "    \n",
    "    # result = func(a, b)\n",
    "    \n",
    "    return a, b\n",
    "\n",
    "# Example usage:\n",
    "a = np.asarray([[1,2],[-9, 4]])\n",
    "b = np.asarray([[3,4,5,6],[1,1,0,-5]])\n",
    "\n",
    "result = padded_broadcasting(np.add, a, b, -100)\n",
    "print(result)"
   ]
  },
  {
   "cell_type": "code",
   "execution_count": 103,
   "metadata": {},
   "outputs": [
    {
     "data": {
      "text/plain": [
       "0"
      ]
     },
     "execution_count": 103,
     "metadata": {},
     "output_type": "execute_result"
    }
   ],
   "source": [
    "a = np.asarray([[1,2],[-9, 4]])\n",
    "b = np.asarray([[3,4,5,6],[1,1,0,-5]])\n",
    "\n",
    "pad = -100\n",
    "\n",
    "a_length = a.shape[1]\n",
    "b_length = b.shape[1]\n",
    "\n",
    "length_dif = abs(a_length - b_length)\n",
    "\n",
    "a_width = a.shape[0]\n",
    "b_width = b.shape[0]\n",
    "\n",
    "width_dif = abs(a_width - b_width)\n",
    "\n",
    "if a_width > b_width and a_length > b_length:\n",
    "\n",
    "    pad_width = ((0, width_dif), (0, length_dif))\n",
    "\n",
    "    b = np.pad(a, pad_width=pad_width, mode='constant', constant_values=pad)\n",
    "\n",
    "elif b_width > a_width and b_length > a_length:\n",
    "\n",
    "    pad_width = ((0, width_dif), (0, length_dif))\n",
    "\n",
    "    a = np.pad(a, pad_width=pad_width, mode='constant', constant_values=pad)\n",
    "\n",
    "elif a_width > b_width and b_length > a_length:\n",
    "\n",
    "    a_pad_width = ((0, 0), (0, length_dif))\n",
    "\n",
    "    a = np.pad(a, pad_width=a_pad_width, mode='constant', constant_values=pad)\n",
    "\n",
    "    b_pad_width = ((0, width_dif), (0, 0))\n",
    "\n",
    "    b = np.pad(a, pad_width=b_pad_width, mode='constant', constant_values=pad)\n",
    "\n",
    "elif b_width > a_width and a_length > b_length:\n",
    "\n",
    "    b_pad_width = ((0, 0), (0, length_dif))\n",
    "\n",
    "    b = np.pad(a, pad_width=b_pad_width, mode='constant', constant_values=pad)\n",
    "\n",
    "    a_pad_width = ((0, width_dif), (0, 0))\n",
    "\n",
    "    a = np.pad(a, pad_width=a_pad_width, mode='constant', constant_values=pad)\n",
    "\n",
    "elif b_width > a_width and a_length == b_length:\n",
    "\n",
    "    a_pad_width = ((0, width_dif), (0, 0))\n",
    "\n",
    "    a = np.pad(a, pad_width=a_pad_width, mode='constant', constant_values=pad)\n",
    "\n",
    "elif b_width < a_width and a_length == b_length:\n",
    "\n",
    "    b_pad_width = ((0, width_dif), (0, 0))\n",
    "\n",
    "    b = np.pad(a, pad_width=b_pad_width, mode='constant', constant_values=pad)\n",
    "\n",
    "elif b_width == a_width and b_length > a_length:\n",
    "\n",
    "    a_pad_width = ((0, 0), (0, length_dif))\n",
    "\n",
    "    a = np.pad(a, pad_width=a_pad_width, mode='constant', constant_values=pad)\n",
    "\n",
    "elif b_width == a_width and a_length > b_length:\n",
    "\n",
    "    b_pad_width = ((0, 0), (0, length_dif))\n",
    "\n",
    "    b = np.pad(a, pad_width=b_pad_width, mode='constant', constant_values=pad)\n",
    "\n",
    "width_dif"
   ]
  },
  {
   "cell_type": "code",
   "execution_count": null,
   "metadata": {},
   "outputs": [
    {
     "name": "stdout",
     "output_type": "stream",
     "text": [
      "Original array:\n",
      "[[1 2 3]\n",
      " [4 5 6]]\n",
      "\n",
      "List to add:\n",
      "[7, 8, 9]\n",
      "\n",
      "Result array after adding the new list along a new axis:\n",
      "[[1 2 3]\n",
      " [4 5 6]\n",
      " [7 8 9]]\n"
     ]
    }
   ],
   "source": [
    "import numpy as np\n",
    "\n",
    "# Sample multidimensional array\n",
    "original_array = np.array([[1, 2, 3], [4, 5, 6]])\n",
    "\n",
    "# List to add (1D) with the same size as the existing array\n",
    "list_to_add = [7, 8, 9]\n",
    "\n",
    "# Convert the list to a 2D array\n",
    "new_dimension_array = np.array([list_to_add])\n",
    "\n",
    "\n"
   ]
  },
  {
   "cell_type": "code",
   "execution_count": null,
   "metadata": {},
   "outputs": [
    {
     "name": "stdout",
     "output_type": "stream",
     "text": [
      "New NumPy array:\n",
      "[[1 2 3]\n",
      " [4 5 6]\n",
      " [7 8 9]]\n"
     ]
    }
   ],
   "source": [
    "import numpy as np\n",
    "\n",
    "# Example object specifying the number of dimensions and lists\n",
    "num_dimensions = 2\n",
    "lists = [[1, 2, 3], [4, 5, 6], [7, 8, 9]]\n",
    "\n",
    "# Create a new NumPy array\n",
    "new_array = np.array([np.array(sublist) for sublist in lists])\n",
    "\n",
    "# # Reshape the array based on the specified number of dimensions\n",
    "# new_shape = (-1,) + (len(lists[0]),) * (num_dimensions - 1)\n",
    "# new_array = new_array.reshape(new_shape)\n",
    "\n",
    "print(\"New NumPy array:\")\n",
    "print(new_array)"
   ]
  },
  {
   "cell_type": "code",
   "execution_count": null,
   "metadata": {},
   "outputs": [],
   "source": []
  }
 ],
 "metadata": {
  "kernelspec": {
   "display_name": "Python 3",
   "language": "python",
   "name": "python3"
  },
  "language_info": {
   "codemirror_mode": {
    "name": "ipython",
    "version": 3
   },
   "file_extension": ".py",
   "mimetype": "text/x-python",
   "name": "python",
   "nbconvert_exporter": "python",
   "pygments_lexer": "ipython3",
   "version": "3.11.6"
  }
 },
 "nbformat": 4,
 "nbformat_minor": 2
}
