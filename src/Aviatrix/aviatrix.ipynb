{
 "cells": [
  {
   "cell_type": "markdown",
   "metadata": {},
   "source": [
    "# Aviatrix Analytics Assignment"
   ]
  },
  {
   "cell_type": "markdown",
   "metadata": {},
   "source": [
    "## Introduction and Load Data"
   ]
  },
  {
   "cell_type": "markdown",
   "metadata": {},
   "source": [
    "Aviatrix is an online casino game. \\\n",
    "The player chooses how much to bet on landing a plane before it explodes. \\\n",
    "The plane is a customizable NFT. \\\n",
    "The plane collects experience and levels after every round."
   ]
  },
  {
   "cell_type": "markdown",
   "metadata": {},
   "source": [
    "This analysis will be composed of the follwoing stages:\n",
    "- identification and description of data\n",
    "- brief report with metrics that I consider most useful for description\n",
    "- assessment of user engagment\n",
    "- request amd recommendation for additional fields/events"
   ]
  },
  {
   "cell_type": "code",
   "execution_count": 20,
   "metadata": {
    "tags": []
   },
   "outputs": [],
   "source": [
    "import pandas as pd\n",
    "import seaborn as sns\n",
    "from pandas.tseries.offsets import Week\n",
    "\n",
    "import numpy as np\n",
    "import matplotlib.pyplot as plt"
   ]
  },
  {
   "cell_type": "markdown",
   "metadata": {},
   "source": [
    "Below, we can see the data loaded from a csv file on the bets made in Aviatrix. \\\n",
    "Lets make an assumption that the column Currency represents the corresponding timezone or in other words country."
   ]
  },
  {
   "cell_type": "code",
   "execution_count": 21,
   "metadata": {},
   "outputs": [
    {
     "data": {
      "text/html": [
       "<div>\n",
       "<style scoped>\n",
       "    .dataframe tbody tr th:only-of-type {\n",
       "        vertical-align: middle;\n",
       "    }\n",
       "\n",
       "    .dataframe tbody tr th {\n",
       "        vertical-align: top;\n",
       "    }\n",
       "\n",
       "    .dataframe thead th {\n",
       "        text-align: right;\n",
       "    }\n",
       "</style>\n",
       "<table border=\"1\" class=\"dataframe\">\n",
       "  <thead>\n",
       "    <tr style=\"text-align: right;\">\n",
       "      <th></th>\n",
       "      <th>CreatedAt</th>\n",
       "      <th>Currency</th>\n",
       "      <th>UserId</th>\n",
       "      <th>PlatformId</th>\n",
       "      <th>MatchId</th>\n",
       "      <th>stake_currency</th>\n",
       "      <th>stake_eur</th>\n",
       "      <th>won_currency</th>\n",
       "      <th>won_eur</th>\n",
       "    </tr>\n",
       "  </thead>\n",
       "  <tbody>\n",
       "    <tr>\n",
       "      <th>0</th>\n",
       "      <td>2023-03-20 15:01:13.304718058</td>\n",
       "      <td>KZT</td>\n",
       "      <td>wqsjm3ggga</td>\n",
       "      <td>platform_2</td>\n",
       "      <td>1013616</td>\n",
       "      <td>203.29</td>\n",
       "      <td>0.41</td>\n",
       "      <td>0.00</td>\n",
       "      <td>0.00</td>\n",
       "    </tr>\n",
       "    <tr>\n",
       "      <th>1</th>\n",
       "      <td>2023-03-13 13:40:07.304718058</td>\n",
       "      <td>TRY</td>\n",
       "      <td>enrlnd1u6y</td>\n",
       "      <td>platform_4</td>\n",
       "      <td>982714</td>\n",
       "      <td>1.88</td>\n",
       "      <td>0.09</td>\n",
       "      <td>5.79</td>\n",
       "      <td>0.29</td>\n",
       "    </tr>\n",
       "    <tr>\n",
       "      <th>2</th>\n",
       "      <td>2023-03-22 00:39:12.304718058</td>\n",
       "      <td>KZT</td>\n",
       "      <td>5nz03e471b</td>\n",
       "      <td>platform_1</td>\n",
       "      <td>1019784</td>\n",
       "      <td>605.22</td>\n",
       "      <td>1.21</td>\n",
       "      <td>0.00</td>\n",
       "      <td>0.00</td>\n",
       "    </tr>\n",
       "    <tr>\n",
       "      <th>3</th>\n",
       "      <td>2023-03-22 06:14:56.304718058</td>\n",
       "      <td>KZT</td>\n",
       "      <td>fiatnpu27d</td>\n",
       "      <td>platform_2</td>\n",
       "      <td>1020804</td>\n",
       "      <td>33.99</td>\n",
       "      <td>0.07</td>\n",
       "      <td>0.00</td>\n",
       "      <td>0.00</td>\n",
       "    </tr>\n",
       "    <tr>\n",
       "      <th>4</th>\n",
       "      <td>2023-03-01 14:32:41.304718058</td>\n",
       "      <td>KZT</td>\n",
       "      <td>1zx0tpf58u</td>\n",
       "      <td>platform_1</td>\n",
       "      <td>930347</td>\n",
       "      <td>18.93</td>\n",
       "      <td>0.04</td>\n",
       "      <td>0.00</td>\n",
       "      <td>0.00</td>\n",
       "    </tr>\n",
       "    <tr>\n",
       "      <th>...</th>\n",
       "      <td>...</td>\n",
       "      <td>...</td>\n",
       "      <td>...</td>\n",
       "      <td>...</td>\n",
       "      <td>...</td>\n",
       "      <td>...</td>\n",
       "      <td>...</td>\n",
       "      <td>...</td>\n",
       "      <td>...</td>\n",
       "    </tr>\n",
       "    <tr>\n",
       "      <th>99984</th>\n",
       "      <td>2023-03-27 05:50:36.304718058</td>\n",
       "      <td>KZT</td>\n",
       "      <td>yy04sqqhsn</td>\n",
       "      <td>platform_2</td>\n",
       "      <td>1042809</td>\n",
       "      <td>73.09</td>\n",
       "      <td>0.15</td>\n",
       "      <td>73.09</td>\n",
       "      <td>0.15</td>\n",
       "    </tr>\n",
       "    <tr>\n",
       "      <th>99985</th>\n",
       "      <td>2023-04-05 14:17:12.304718058</td>\n",
       "      <td>TRY</td>\n",
       "      <td>w86x6fnbx5</td>\n",
       "      <td>platform_2</td>\n",
       "      <td>1083864</td>\n",
       "      <td>5.73</td>\n",
       "      <td>0.27</td>\n",
       "      <td>0.00</td>\n",
       "      <td>0.00</td>\n",
       "    </tr>\n",
       "    <tr>\n",
       "      <th>99986</th>\n",
       "      <td>2023-03-11 19:34:34.304718058</td>\n",
       "      <td>KZT</td>\n",
       "      <td>w87kmjmmuc</td>\n",
       "      <td>platform_3</td>\n",
       "      <td>975059</td>\n",
       "      <td>26.22</td>\n",
       "      <td>0.05</td>\n",
       "      <td>0.00</td>\n",
       "      <td>0.00</td>\n",
       "    </tr>\n",
       "    <tr>\n",
       "      <th>99987</th>\n",
       "      <td>2023-03-31 21:33:30.304718058</td>\n",
       "      <td>KZT</td>\n",
       "      <td>bkwmgy6e6b</td>\n",
       "      <td>platform_1</td>\n",
       "      <td>1063176</td>\n",
       "      <td>88.01</td>\n",
       "      <td>0.18</td>\n",
       "      <td>0.00</td>\n",
       "      <td>0.00</td>\n",
       "    </tr>\n",
       "    <tr>\n",
       "      <th>99988</th>\n",
       "      <td>2023-03-19 21:53:13.304718058</td>\n",
       "      <td>TRY</td>\n",
       "      <td>n2vnuq6uwh</td>\n",
       "      <td>platform_4</td>\n",
       "      <td>1010452</td>\n",
       "      <td>30.03</td>\n",
       "      <td>1.47</td>\n",
       "      <td>0.00</td>\n",
       "      <td>0.00</td>\n",
       "    </tr>\n",
       "  </tbody>\n",
       "</table>\n",
       "<p>99989 rows × 9 columns</p>\n",
       "</div>"
      ],
      "text/plain": [
       "                          CreatedAt Currency      UserId  PlatformId  MatchId  \\\n",
       "0     2023-03-20 15:01:13.304718058      KZT  wqsjm3ggga  platform_2  1013616   \n",
       "1     2023-03-13 13:40:07.304718058      TRY  enrlnd1u6y  platform_4   982714   \n",
       "2     2023-03-22 00:39:12.304718058      KZT  5nz03e471b  platform_1  1019784   \n",
       "3     2023-03-22 06:14:56.304718058      KZT  fiatnpu27d  platform_2  1020804   \n",
       "4     2023-03-01 14:32:41.304718058      KZT  1zx0tpf58u  platform_1   930347   \n",
       "...                             ...      ...         ...         ...      ...   \n",
       "99984 2023-03-27 05:50:36.304718058      KZT  yy04sqqhsn  platform_2  1042809   \n",
       "99985 2023-04-05 14:17:12.304718058      TRY  w86x6fnbx5  platform_2  1083864   \n",
       "99986 2023-03-11 19:34:34.304718058      KZT  w87kmjmmuc  platform_3   975059   \n",
       "99987 2023-03-31 21:33:30.304718058      KZT  bkwmgy6e6b  platform_1  1063176   \n",
       "99988 2023-03-19 21:53:13.304718058      TRY  n2vnuq6uwh  platform_4  1010452   \n",
       "\n",
       "       stake_currency  stake_eur  won_currency  won_eur  \n",
       "0              203.29       0.41          0.00     0.00  \n",
       "1                1.88       0.09          5.79     0.29  \n",
       "2              605.22       1.21          0.00     0.00  \n",
       "3               33.99       0.07          0.00     0.00  \n",
       "4               18.93       0.04          0.00     0.00  \n",
       "...               ...        ...           ...      ...  \n",
       "99984           73.09       0.15         73.09     0.15  \n",
       "99985            5.73       0.27          0.00     0.00  \n",
       "99986           26.22       0.05          0.00     0.00  \n",
       "99987           88.01       0.18          0.00     0.00  \n",
       "99988           30.03       1.47          0.00     0.00  \n",
       "\n",
       "[99989 rows x 9 columns]"
      ]
     },
     "execution_count": 21,
     "metadata": {},
     "output_type": "execute_result"
    }
   ],
   "source": [
    "df = pd.read_csv('test_data.csv', parse_dates=['CreatedAt'])\n",
    "df"
   ]
  },
  {
   "cell_type": "markdown",
   "metadata": {},
   "source": [
    "## Identification and description of errors in the data"
   ]
  },
  {
   "cell_type": "markdown",
   "metadata": {},
   "source": [
    "Types of data seem to be consistent with what they represent."
   ]
  },
  {
   "cell_type": "code",
   "execution_count": 22,
   "metadata": {},
   "outputs": [
    {
     "data": {
      "text/plain": [
       "CreatedAt         datetime64[ns]\n",
       "Currency                  object\n",
       "UserId                    object\n",
       "PlatformId                object\n",
       "MatchId                    int64\n",
       "stake_currency           float64\n",
       "stake_eur                float64\n",
       "won_currency             float64\n",
       "won_eur                  float64\n",
       "dtype: object"
      ]
     },
     "execution_count": 22,
     "metadata": {},
     "output_type": "execute_result"
    }
   ],
   "source": [
    "df.dtypes"
   ]
  },
  {
   "cell_type": "markdown",
   "metadata": {},
   "source": [
    "From the very start we can see that the platform column registers platforms as listed below. \\\n",
    "This is not fitting for a good analysis, because the names for platforms are not descriptive enough."
   ]
  },
  {
   "cell_type": "code",
   "execution_count": 23,
   "metadata": {},
   "outputs": [
    {
     "data": {
      "text/plain": [
       "array(['platform_2', 'platform_4', 'platform_1', 'platform_3'],\n",
       "      dtype=object)"
      ]
     },
     "execution_count": 23,
     "metadata": {},
     "output_type": "execute_result"
    }
   ],
   "source": [
    "df['PlatformId'].unique()"
   ]
  },
  {
   "cell_type": "markdown",
   "metadata": {},
   "source": [
    "Lets try to see if there are any missing values in data. \\\n",
    "There is no missing data in the dataframe."
   ]
  },
  {
   "cell_type": "code",
   "execution_count": 24,
   "metadata": {},
   "outputs": [
    {
     "data": {
      "text/html": [
       "<div>\n",
       "<style scoped>\n",
       "    .dataframe tbody tr th:only-of-type {\n",
       "        vertical-align: middle;\n",
       "    }\n",
       "\n",
       "    .dataframe tbody tr th {\n",
       "        vertical-align: top;\n",
       "    }\n",
       "\n",
       "    .dataframe thead th {\n",
       "        text-align: right;\n",
       "    }\n",
       "</style>\n",
       "<table border=\"1\" class=\"dataframe\">\n",
       "  <thead>\n",
       "    <tr style=\"text-align: right;\">\n",
       "      <th></th>\n",
       "      <th>CreatedAt</th>\n",
       "      <th>Currency</th>\n",
       "      <th>UserId</th>\n",
       "      <th>PlatformId</th>\n",
       "      <th>MatchId</th>\n",
       "      <th>stake_currency</th>\n",
       "      <th>stake_eur</th>\n",
       "      <th>won_currency</th>\n",
       "      <th>won_eur</th>\n",
       "    </tr>\n",
       "  </thead>\n",
       "  <tbody>\n",
       "  </tbody>\n",
       "</table>\n",
       "</div>"
      ],
      "text/plain": [
       "Empty DataFrame\n",
       "Columns: [CreatedAt, Currency, UserId, PlatformId, MatchId, stake_currency, stake_eur, won_currency, won_eur]\n",
       "Index: []"
      ]
     },
     "execution_count": 24,
     "metadata": {},
     "output_type": "execute_result"
    }
   ],
   "source": [
    "df[df.isna().any(axis=1)]"
   ]
  },
  {
   "cell_type": "markdown",
   "metadata": {},
   "source": [
    "There are also no duplicate entries."
   ]
  },
  {
   "cell_type": "code",
   "execution_count": 25,
   "metadata": {},
   "outputs": [
    {
     "data": {
      "text/html": [
       "<div>\n",
       "<style scoped>\n",
       "    .dataframe tbody tr th:only-of-type {\n",
       "        vertical-align: middle;\n",
       "    }\n",
       "\n",
       "    .dataframe tbody tr th {\n",
       "        vertical-align: top;\n",
       "    }\n",
       "\n",
       "    .dataframe thead th {\n",
       "        text-align: right;\n",
       "    }\n",
       "</style>\n",
       "<table border=\"1\" class=\"dataframe\">\n",
       "  <thead>\n",
       "    <tr style=\"text-align: right;\">\n",
       "      <th></th>\n",
       "      <th>CreatedAt</th>\n",
       "      <th>Currency</th>\n",
       "      <th>UserId</th>\n",
       "      <th>PlatformId</th>\n",
       "      <th>MatchId</th>\n",
       "      <th>stake_currency</th>\n",
       "      <th>stake_eur</th>\n",
       "      <th>won_currency</th>\n",
       "      <th>won_eur</th>\n",
       "    </tr>\n",
       "  </thead>\n",
       "  <tbody>\n",
       "  </tbody>\n",
       "</table>\n",
       "</div>"
      ],
      "text/plain": [
       "Empty DataFrame\n",
       "Columns: [CreatedAt, Currency, UserId, PlatformId, MatchId, stake_currency, stake_eur, won_currency, won_eur]\n",
       "Index: []"
      ]
     },
     "execution_count": 25,
     "metadata": {},
     "output_type": "execute_result"
    }
   ],
   "source": [
    "df[df.duplicated()]"
   ]
  },
  {
   "cell_type": "markdown",
   "metadata": {},
   "source": [
    "The currencies seem to fit to the world definitions:\n",
    "- KZT - Kazakhstan tenge\n",
    "- TRY - TUrkey lire\n",
    "- AZN - Azerbaijani manat\n",
    "- INR - Indian rupee"
   ]
  },
  {
   "cell_type": "code",
   "execution_count": 26,
   "metadata": {},
   "outputs": [
    {
     "data": {
      "text/plain": [
       "array(['KZT', 'TRY', 'AZN', 'INR'], dtype=object)"
      ]
     },
     "execution_count": 26,
     "metadata": {},
     "output_type": "execute_result"
    }
   ],
   "source": [
    "df.Currency.unique()"
   ]
  },
  {
   "cell_type": "markdown",
   "metadata": {},
   "source": [
    "There are no negative or zero values in the colummn MatchId."
   ]
  },
  {
   "cell_type": "code",
   "execution_count": 27,
   "metadata": {},
   "outputs": [
    {
     "data": {
      "text/html": [
       "<div>\n",
       "<style scoped>\n",
       "    .dataframe tbody tr th:only-of-type {\n",
       "        vertical-align: middle;\n",
       "    }\n",
       "\n",
       "    .dataframe tbody tr th {\n",
       "        vertical-align: top;\n",
       "    }\n",
       "\n",
       "    .dataframe thead th {\n",
       "        text-align: right;\n",
       "    }\n",
       "</style>\n",
       "<table border=\"1\" class=\"dataframe\">\n",
       "  <thead>\n",
       "    <tr style=\"text-align: right;\">\n",
       "      <th></th>\n",
       "      <th>CreatedAt</th>\n",
       "      <th>Currency</th>\n",
       "      <th>UserId</th>\n",
       "      <th>PlatformId</th>\n",
       "      <th>MatchId</th>\n",
       "      <th>stake_currency</th>\n",
       "      <th>stake_eur</th>\n",
       "      <th>won_currency</th>\n",
       "      <th>won_eur</th>\n",
       "    </tr>\n",
       "  </thead>\n",
       "  <tbody>\n",
       "  </tbody>\n",
       "</table>\n",
       "</div>"
      ],
      "text/plain": [
       "Empty DataFrame\n",
       "Columns: [CreatedAt, Currency, UserId, PlatformId, MatchId, stake_currency, stake_eur, won_currency, won_eur]\n",
       "Index: []"
      ]
     },
     "execution_count": 27,
     "metadata": {},
     "output_type": "execute_result"
    }
   ],
   "source": [
    "df.query(\"MatchId <= 0\")"
   ]
  },
  {
   "cell_type": "markdown",
   "metadata": {},
   "source": [
    "There are 2 rows that show stake currency being zero, which is an error because a bet cannot be zero."
   ]
  },
  {
   "cell_type": "code",
   "execution_count": 28,
   "metadata": {},
   "outputs": [
    {
     "data": {
      "text/html": [
       "<div>\n",
       "<style scoped>\n",
       "    .dataframe tbody tr th:only-of-type {\n",
       "        vertical-align: middle;\n",
       "    }\n",
       "\n",
       "    .dataframe tbody tr th {\n",
       "        vertical-align: top;\n",
       "    }\n",
       "\n",
       "    .dataframe thead th {\n",
       "        text-align: right;\n",
       "    }\n",
       "</style>\n",
       "<table border=\"1\" class=\"dataframe\">\n",
       "  <thead>\n",
       "    <tr style=\"text-align: right;\">\n",
       "      <th></th>\n",
       "      <th>CreatedAt</th>\n",
       "      <th>Currency</th>\n",
       "      <th>UserId</th>\n",
       "      <th>PlatformId</th>\n",
       "      <th>MatchId</th>\n",
       "      <th>stake_currency</th>\n",
       "      <th>stake_eur</th>\n",
       "      <th>won_currency</th>\n",
       "      <th>won_eur</th>\n",
       "    </tr>\n",
       "  </thead>\n",
       "  <tbody>\n",
       "    <tr>\n",
       "      <th>5237</th>\n",
       "      <td>2023-03-10 19:18:40.304718058</td>\n",
       "      <td>AZN</td>\n",
       "      <td>0gdqrqabxe</td>\n",
       "      <td>platform_3</td>\n",
       "      <td>970695</td>\n",
       "      <td>0.0</td>\n",
       "      <td>0.0</td>\n",
       "      <td>0.00</td>\n",
       "      <td>0.0</td>\n",
       "    </tr>\n",
       "    <tr>\n",
       "      <th>87516</th>\n",
       "      <td>2023-04-01 07:08:16.304718058</td>\n",
       "      <td>AZN</td>\n",
       "      <td>pra6xdwjfs</td>\n",
       "      <td>platform_3</td>\n",
       "      <td>1064955</td>\n",
       "      <td>0.0</td>\n",
       "      <td>0.0</td>\n",
       "      <td>0.01</td>\n",
       "      <td>0.0</td>\n",
       "    </tr>\n",
       "  </tbody>\n",
       "</table>\n",
       "</div>"
      ],
      "text/plain": [
       "                          CreatedAt Currency      UserId  PlatformId  MatchId  \\\n",
       "5237  2023-03-10 19:18:40.304718058      AZN  0gdqrqabxe  platform_3   970695   \n",
       "87516 2023-04-01 07:08:16.304718058      AZN  pra6xdwjfs  platform_3  1064955   \n",
       "\n",
       "       stake_currency  stake_eur  won_currency  won_eur  \n",
       "5237              0.0        0.0          0.00      0.0  \n",
       "87516             0.0        0.0          0.01      0.0  "
      ]
     },
     "execution_count": 28,
     "metadata": {},
     "output_type": "execute_result"
    }
   ],
   "source": [
    "df.query(\"stake_currency <= 0\")"
   ]
  },
  {
   "cell_type": "markdown",
   "metadata": {},
   "source": [
    "There are 262 rows that show stake euro to be zero. \\\n",
    "This is possible because a bet in a different currency can be lower than 1 cent euro."
   ]
  },
  {
   "cell_type": "code",
   "execution_count": 29,
   "metadata": {},
   "outputs": [
    {
     "data": {
      "text/html": [
       "<div>\n",
       "<style scoped>\n",
       "    .dataframe tbody tr th:only-of-type {\n",
       "        vertical-align: middle;\n",
       "    }\n",
       "\n",
       "    .dataframe tbody tr th {\n",
       "        vertical-align: top;\n",
       "    }\n",
       "\n",
       "    .dataframe thead th {\n",
       "        text-align: right;\n",
       "    }\n",
       "</style>\n",
       "<table border=\"1\" class=\"dataframe\">\n",
       "  <thead>\n",
       "    <tr style=\"text-align: right;\">\n",
       "      <th></th>\n",
       "      <th>CreatedAt</th>\n",
       "      <th>Currency</th>\n",
       "      <th>UserId</th>\n",
       "      <th>PlatformId</th>\n",
       "      <th>MatchId</th>\n",
       "      <th>stake_currency</th>\n",
       "      <th>stake_eur</th>\n",
       "      <th>won_currency</th>\n",
       "      <th>won_eur</th>\n",
       "    </tr>\n",
       "  </thead>\n",
       "  <tbody>\n",
       "    <tr>\n",
       "      <th>777</th>\n",
       "      <td>2023-03-26 08:56:03.304718058</td>\n",
       "      <td>KZT</td>\n",
       "      <td>n9ker2uij0</td>\n",
       "      <td>platform_1</td>\n",
       "      <td>1038952</td>\n",
       "      <td>2.22</td>\n",
       "      <td>0.0</td>\n",
       "      <td>4.05</td>\n",
       "      <td>0.01</td>\n",
       "    </tr>\n",
       "    <tr>\n",
       "      <th>1301</th>\n",
       "      <td>2023-03-28 10:49:49.304718058</td>\n",
       "      <td>KZT</td>\n",
       "      <td>hqljaln82w</td>\n",
       "      <td>platform_1</td>\n",
       "      <td>1048103</td>\n",
       "      <td>2.20</td>\n",
       "      <td>0.0</td>\n",
       "      <td>0.00</td>\n",
       "      <td>0.00</td>\n",
       "    </tr>\n",
       "    <tr>\n",
       "      <th>1781</th>\n",
       "      <td>2023-02-26 12:20:18.304718058</td>\n",
       "      <td>KZT</td>\n",
       "      <td>5z9j6bp3ke</td>\n",
       "      <td>platform_3</td>\n",
       "      <td>917112</td>\n",
       "      <td>1.02</td>\n",
       "      <td>0.0</td>\n",
       "      <td>1.18</td>\n",
       "      <td>0.00</td>\n",
       "    </tr>\n",
       "    <tr>\n",
       "      <th>2089</th>\n",
       "      <td>2023-03-28 07:35:46.304718058</td>\n",
       "      <td>TRY</td>\n",
       "      <td>mww55mwkas</td>\n",
       "      <td>platform_3</td>\n",
       "      <td>1047526</td>\n",
       "      <td>0.08</td>\n",
       "      <td>0.0</td>\n",
       "      <td>0.08</td>\n",
       "      <td>0.00</td>\n",
       "    </tr>\n",
       "    <tr>\n",
       "      <th>2684</th>\n",
       "      <td>2023-03-20 05:49:15.304718058</td>\n",
       "      <td>KZT</td>\n",
       "      <td>t4au76z0un</td>\n",
       "      <td>platform_1</td>\n",
       "      <td>1011899</td>\n",
       "      <td>2.05</td>\n",
       "      <td>0.0</td>\n",
       "      <td>0.00</td>\n",
       "      <td>0.00</td>\n",
       "    </tr>\n",
       "    <tr>\n",
       "      <th>...</th>\n",
       "      <td>...</td>\n",
       "      <td>...</td>\n",
       "      <td>...</td>\n",
       "      <td>...</td>\n",
       "      <td>...</td>\n",
       "      <td>...</td>\n",
       "      <td>...</td>\n",
       "      <td>...</td>\n",
       "      <td>...</td>\n",
       "    </tr>\n",
       "    <tr>\n",
       "      <th>98714</th>\n",
       "      <td>2023-03-05 11:46:57.304718058</td>\n",
       "      <td>KZT</td>\n",
       "      <td>86u9enqz6i</td>\n",
       "      <td>platform_1</td>\n",
       "      <td>947417</td>\n",
       "      <td>1.87</td>\n",
       "      <td>0.0</td>\n",
       "      <td>4.04</td>\n",
       "      <td>0.01</td>\n",
       "    </tr>\n",
       "    <tr>\n",
       "      <th>98791</th>\n",
       "      <td>2023-03-13 13:15:58.304718058</td>\n",
       "      <td>KZT</td>\n",
       "      <td>u3q5tv1xkf</td>\n",
       "      <td>platform_2</td>\n",
       "      <td>982637</td>\n",
       "      <td>1.70</td>\n",
       "      <td>0.0</td>\n",
       "      <td>1.98</td>\n",
       "      <td>0.00</td>\n",
       "    </tr>\n",
       "    <tr>\n",
       "      <th>99272</th>\n",
       "      <td>2023-03-14 21:28:59.304718058</td>\n",
       "      <td>TRY</td>\n",
       "      <td>vbycjxn3jv</td>\n",
       "      <td>platform_3</td>\n",
       "      <td>988571</td>\n",
       "      <td>0.05</td>\n",
       "      <td>0.0</td>\n",
       "      <td>0.14</td>\n",
       "      <td>0.01</td>\n",
       "    </tr>\n",
       "    <tr>\n",
       "      <th>99328</th>\n",
       "      <td>2023-03-27 02:20:10.304718058</td>\n",
       "      <td>KZT</td>\n",
       "      <td>lodhtrre41</td>\n",
       "      <td>platform_1</td>\n",
       "      <td>1042141</td>\n",
       "      <td>2.08</td>\n",
       "      <td>0.0</td>\n",
       "      <td>4.50</td>\n",
       "      <td>0.01</td>\n",
       "    </tr>\n",
       "    <tr>\n",
       "      <th>99390</th>\n",
       "      <td>2023-03-19 16:25:12.304718058</td>\n",
       "      <td>KZT</td>\n",
       "      <td>q1zujlrz7u</td>\n",
       "      <td>platform_1</td>\n",
       "      <td>1009410</td>\n",
       "      <td>2.48</td>\n",
       "      <td>0.0</td>\n",
       "      <td>0.00</td>\n",
       "      <td>0.00</td>\n",
       "    </tr>\n",
       "  </tbody>\n",
       "</table>\n",
       "<p>262 rows × 9 columns</p>\n",
       "</div>"
      ],
      "text/plain": [
       "                          CreatedAt Currency      UserId  PlatformId  MatchId  \\\n",
       "777   2023-03-26 08:56:03.304718058      KZT  n9ker2uij0  platform_1  1038952   \n",
       "1301  2023-03-28 10:49:49.304718058      KZT  hqljaln82w  platform_1  1048103   \n",
       "1781  2023-02-26 12:20:18.304718058      KZT  5z9j6bp3ke  platform_3   917112   \n",
       "2089  2023-03-28 07:35:46.304718058      TRY  mww55mwkas  platform_3  1047526   \n",
       "2684  2023-03-20 05:49:15.304718058      KZT  t4au76z0un  platform_1  1011899   \n",
       "...                             ...      ...         ...         ...      ...   \n",
       "98714 2023-03-05 11:46:57.304718058      KZT  86u9enqz6i  platform_1   947417   \n",
       "98791 2023-03-13 13:15:58.304718058      KZT  u3q5tv1xkf  platform_2   982637   \n",
       "99272 2023-03-14 21:28:59.304718058      TRY  vbycjxn3jv  platform_3   988571   \n",
       "99328 2023-03-27 02:20:10.304718058      KZT  lodhtrre41  platform_1  1042141   \n",
       "99390 2023-03-19 16:25:12.304718058      KZT  q1zujlrz7u  platform_1  1009410   \n",
       "\n",
       "       stake_currency  stake_eur  won_currency  won_eur  \n",
       "777              2.22        0.0          4.05     0.01  \n",
       "1301             2.20        0.0          0.00     0.00  \n",
       "1781             1.02        0.0          1.18     0.00  \n",
       "2089             0.08        0.0          0.08     0.00  \n",
       "2684             2.05        0.0          0.00     0.00  \n",
       "...               ...        ...           ...      ...  \n",
       "98714            1.87        0.0          4.04     0.01  \n",
       "98791            1.70        0.0          1.98     0.00  \n",
       "99272            0.05        0.0          0.14     0.01  \n",
       "99328            2.08        0.0          4.50     0.01  \n",
       "99390            2.48        0.0          0.00     0.00  \n",
       "\n",
       "[262 rows x 9 columns]"
      ]
     },
     "execution_count": 29,
     "metadata": {},
     "output_type": "execute_result"
    }
   ],
   "source": [
    "df.query(\"stake_eur <= 0\")"
   ]
  },
  {
   "cell_type": "markdown",
   "metadata": {},
   "source": [
    "There are no negative values in columns euros won and currency won."
   ]
  },
  {
   "cell_type": "code",
   "execution_count": 30,
   "metadata": {},
   "outputs": [
    {
     "data": {
      "text/html": [
       "<div>\n",
       "<style scoped>\n",
       "    .dataframe tbody tr th:only-of-type {\n",
       "        vertical-align: middle;\n",
       "    }\n",
       "\n",
       "    .dataframe tbody tr th {\n",
       "        vertical-align: top;\n",
       "    }\n",
       "\n",
       "    .dataframe thead th {\n",
       "        text-align: right;\n",
       "    }\n",
       "</style>\n",
       "<table border=\"1\" class=\"dataframe\">\n",
       "  <thead>\n",
       "    <tr style=\"text-align: right;\">\n",
       "      <th></th>\n",
       "      <th>CreatedAt</th>\n",
       "      <th>Currency</th>\n",
       "      <th>UserId</th>\n",
       "      <th>PlatformId</th>\n",
       "      <th>MatchId</th>\n",
       "      <th>stake_currency</th>\n",
       "      <th>stake_eur</th>\n",
       "      <th>won_currency</th>\n",
       "      <th>won_eur</th>\n",
       "    </tr>\n",
       "  </thead>\n",
       "  <tbody>\n",
       "  </tbody>\n",
       "</table>\n",
       "</div>"
      ],
      "text/plain": [
       "Empty DataFrame\n",
       "Columns: [CreatedAt, Currency, UserId, PlatformId, MatchId, stake_currency, stake_eur, won_currency, won_eur]\n",
       "Index: []"
      ]
     },
     "execution_count": 30,
     "metadata": {},
     "output_type": "execute_result"
    }
   ],
   "source": [
    "df.query(\"won_currency < 0 | won_eur < 0\")"
   ]
  },
  {
   "cell_type": "markdown",
   "metadata": {},
   "source": [
    "There are no stakes that were larger than winnings."
   ]
  },
  {
   "cell_type": "code",
   "execution_count": 31,
   "metadata": {},
   "outputs": [
    {
     "data": {
      "text/html": [
       "<div>\n",
       "<style scoped>\n",
       "    .dataframe tbody tr th:only-of-type {\n",
       "        vertical-align: middle;\n",
       "    }\n",
       "\n",
       "    .dataframe tbody tr th {\n",
       "        vertical-align: top;\n",
       "    }\n",
       "\n",
       "    .dataframe thead th {\n",
       "        text-align: right;\n",
       "    }\n",
       "</style>\n",
       "<table border=\"1\" class=\"dataframe\">\n",
       "  <thead>\n",
       "    <tr style=\"text-align: right;\">\n",
       "      <th></th>\n",
       "      <th>CreatedAt</th>\n",
       "      <th>Currency</th>\n",
       "      <th>UserId</th>\n",
       "      <th>PlatformId</th>\n",
       "      <th>MatchId</th>\n",
       "      <th>stake_currency</th>\n",
       "      <th>stake_eur</th>\n",
       "      <th>won_currency</th>\n",
       "      <th>won_eur</th>\n",
       "    </tr>\n",
       "  </thead>\n",
       "  <tbody>\n",
       "  </tbody>\n",
       "</table>\n",
       "</div>"
      ],
      "text/plain": [
       "Empty DataFrame\n",
       "Columns: [CreatedAt, Currency, UserId, PlatformId, MatchId, stake_currency, stake_eur, won_currency, won_eur]\n",
       "Index: []"
      ]
     },
     "execution_count": 31,
     "metadata": {},
     "output_type": "execute_result"
    }
   ],
   "source": [
    "df.query(\"stake_eur > won_eur & won_eur != 0\")"
   ]
  },
  {
   "cell_type": "markdown",
   "metadata": {},
   "source": [
    "Errors found:\n",
    "- platform names are not descriptive enough\n",
    "- there are 2 cases of zero amount bet"
   ]
  },
  {
   "cell_type": "markdown",
   "metadata": {},
   "source": [
    "Lets exclude rows that have zero amount bet."
   ]
  },
  {
   "cell_type": "code",
   "execution_count": 32,
   "metadata": {},
   "outputs": [],
   "source": [
    "df = df.query(\"stake_currency != 0\")"
   ]
  },
  {
   "cell_type": "markdown",
   "metadata": {},
   "source": [
    "## A Brief Report: Description Metrics"
   ]
  },
  {
   "cell_type": "markdown",
   "metadata": {},
   "source": [
    "The following metrics would describe existing bets data in the most useful way:\n",
    "- daily active users (DAU) - how many unique users made bets each day; DAU is essential for operations, strategic planning, and understanding the general health of the product\n",
    "- stickiness in percentage (stickinesss_%) - DAU / WAU, how well users are retained over time; stickiness shows sustained user interest and retention\n",
    "- average revenue per user (ARPU) - how much revenue user generates on average; using ARPU decisions about more effective monetization strategies can be made\n",
    "- revenue - how much revenue is generated; revenue is vital to ensuring the game remains financial viable"
   ]
  },
  {
   "cell_type": "code",
   "execution_count": 59,
   "metadata": {},
   "outputs": [
    {
     "name": "stderr",
     "output_type": "stream",
     "text": [
      "C:\\Users\\User\\AppData\\Local\\Temp\\ipykernel_11720\\3782705351.py:1: SettingWithCopyWarning: \n",
      "A value is trying to be set on a copy of a slice from a DataFrame.\n",
      "Try using .loc[row_indexer,col_indexer] = value instead\n",
      "\n",
      "See the caveats in the documentation: https://pandas.pydata.org/pandas-docs/stable/user_guide/indexing.html#returning-a-view-versus-a-copy\n",
      "  df['dates'] = pd.to_datetime(df.CreatedAt).dt.date\n",
      "C:\\Users\\User\\AppData\\Local\\Temp\\ipykernel_11720\\3782705351.py:4: SettingWithCopyWarning: \n",
      "A value is trying to be set on a copy of a slice from a DataFrame.\n",
      "Try using .loc[row_indexer,col_indexer] = value instead\n",
      "\n",
      "See the caveats in the documentation: https://pandas.pydata.org/pandas-docs/stable/user_guide/indexing.html#returning-a-view-versus-a-copy\n",
      "  df['custom_weeks'] = np.floor((pd.to_datetime(df.CreatedAt) - min_date).dt.days / 7).astype(int)\n",
      "C:\\Users\\User\\AppData\\Local\\Temp\\ipykernel_11720\\3782705351.py:5: SettingWithCopyWarning: \n",
      "A value is trying to be set on a copy of a slice from a DataFrame.\n",
      "Try using .loc[row_indexer,col_indexer] = value instead\n",
      "\n",
      "See the caveats in the documentation: https://pandas.pydata.org/pandas-docs/stable/user_guide/indexing.html#returning-a-view-versus-a-copy\n",
      "  df['custom_weeks'] = pd.to_datetime(min_date + pd.to_timedelta(df['custom_weeks'] * 7, unit='D')).dt.date\n"
     ]
    },
    {
     "data": {
      "text/html": [
       "<div>\n",
       "<style scoped>\n",
       "    .dataframe tbody tr th:only-of-type {\n",
       "        vertical-align: middle;\n",
       "    }\n",
       "\n",
       "    .dataframe tbody tr th {\n",
       "        vertical-align: top;\n",
       "    }\n",
       "\n",
       "    .dataframe thead th {\n",
       "        text-align: right;\n",
       "    }\n",
       "</style>\n",
       "<table border=\"1\" class=\"dataframe\">\n",
       "  <thead>\n",
       "    <tr style=\"text-align: right;\">\n",
       "      <th></th>\n",
       "      <th>custom_weeks</th>\n",
       "      <th>dates</th>\n",
       "      <th>DAU</th>\n",
       "      <th>WAU</th>\n",
       "      <th>stickiness_%</th>\n",
       "      <th>ARPU</th>\n",
       "      <th>revenue</th>\n",
       "    </tr>\n",
       "  </thead>\n",
       "  <tbody>\n",
       "    <tr>\n",
       "      <th>0</th>\n",
       "      <td>2023-02-25</td>\n",
       "      <td>2023-02-25</td>\n",
       "      <td>1353</td>\n",
       "      <td>6387</td>\n",
       "      <td>21.2</td>\n",
       "      <td>2.26</td>\n",
       "      <td>734.56</td>\n",
       "    </tr>\n",
       "    <tr>\n",
       "      <th>1</th>\n",
       "      <td>2023-02-25</td>\n",
       "      <td>2023-02-26</td>\n",
       "      <td>1178</td>\n",
       "      <td>6387</td>\n",
       "      <td>18.4</td>\n",
       "      <td>3.13</td>\n",
       "      <td>417.12</td>\n",
       "    </tr>\n",
       "    <tr>\n",
       "      <th>2</th>\n",
       "      <td>2023-02-25</td>\n",
       "      <td>2023-02-27</td>\n",
       "      <td>1412</td>\n",
       "      <td>6387</td>\n",
       "      <td>22.1</td>\n",
       "      <td>2.78</td>\n",
       "      <td>1161.73</td>\n",
       "    </tr>\n",
       "    <tr>\n",
       "      <th>3</th>\n",
       "      <td>2023-02-25</td>\n",
       "      <td>2023-02-28</td>\n",
       "      <td>1570</td>\n",
       "      <td>6387</td>\n",
       "      <td>24.6</td>\n",
       "      <td>2.54</td>\n",
       "      <td>-80.04</td>\n",
       "    </tr>\n",
       "    <tr>\n",
       "      <th>4</th>\n",
       "      <td>2023-02-25</td>\n",
       "      <td>2023-03-01</td>\n",
       "      <td>1425</td>\n",
       "      <td>6387</td>\n",
       "      <td>22.3</td>\n",
       "      <td>2.67</td>\n",
       "      <td>608.26</td>\n",
       "    </tr>\n",
       "  </tbody>\n",
       "</table>\n",
       "</div>"
      ],
      "text/plain": [
       "  custom_weeks       dates   DAU   WAU  stickiness_%  ARPU  revenue\n",
       "0   2023-02-25  2023-02-25  1353  6387          21.2  2.26   734.56\n",
       "1   2023-02-25  2023-02-26  1178  6387          18.4  3.13   417.12\n",
       "2   2023-02-25  2023-02-27  1412  6387          22.1  2.78  1161.73\n",
       "3   2023-02-25  2023-02-28  1570  6387          24.6  2.54   -80.04\n",
       "4   2023-02-25  2023-03-01  1425  6387          22.3  2.67   608.26"
      ]
     },
     "execution_count": 59,
     "metadata": {},
     "output_type": "execute_result"
    }
   ],
   "source": [
    "df['dates'] = pd.to_datetime(df.CreatedAt).dt.date\n",
    "\n",
    "min_date = pd.to_datetime(df.CreatedAt).min()\n",
    "df['custom_weeks'] = np.floor((pd.to_datetime(df.CreatedAt) - min_date).dt.days / 7).astype(int)\n",
    "df['custom_weeks'] = pd.to_datetime(min_date + pd.to_timedelta(df['custom_weeks'] * 7, unit='D')).dt.date\n",
    "\n",
    "weekly_metrics = df.groupby([\"custom_weeks\"]) \\\n",
    "                    .agg(WAU=(\"UserId\", \"nunique\")) \\\n",
    "                    .reset_index()\n",
    "\n",
    "daily_metrics = df.groupby([\"custom_weeks\", \"dates\", \"UserId\"]) \\\n",
    "                    .agg(euros_bet=(\"stake_eur\", \"sum\"),\n",
    "                         euro_won=(\"won_eur\", \"sum\")) \\\n",
    "                    .reset_index() \\\n",
    "                        .groupby([\"custom_weeks\", \"dates\"]) \\\n",
    "                        .agg(\n",
    "                            DAU=(\"UserId\", \"nunique\"),\n",
    "                            ARPU=(\"euros_bet\", \"mean\"),\n",
    "                            euros_bet=(\"euros_bet\", \"sum\"),\n",
    "                            euro_won=(\"euro_won\", \"sum\")\n",
    "                        ) \\\n",
    "                        .reset_index()\n",
    "\n",
    "daily_metrics['revenue'] = daily_metrics.euros_bet - daily_metrics.euro_won\n",
    "\n",
    "daily_metrics.drop(['euros_bet', 'euro_won'], axis=1, inplace=True)\n",
    "\n",
    "metrics_by_weeks = daily_metrics.merge(weekly_metrics, on='custom_weeks')\n",
    "\n",
    "metrics_by_weeks['DAU'] = metrics_by_weeks.DAU.round().astype(\"int\")\n",
    "metrics_by_weeks['ARPU'] = metrics_by_weeks.ARPU.round(2)\n",
    "\n",
    "metrics_by_weeks['stickiness_%'] = ((metrics_by_weeks.DAU / metrics_by_weeks.WAU) * 100).round(1)\n",
    "\n",
    "move_WAU = metrics_by_weeks.pop('WAU')\n",
    "metrics_by_weeks.insert(3, move_WAU.name, move_WAU)\n",
    "\n",
    "move_stickiness = metrics_by_weeks.pop('stickiness_%')\n",
    "metrics_by_weeks.insert(4, move_stickiness.name, move_stickiness)\n",
    "\n",
    "metrics_by_weeks.head(5)"
   ]
  },
  {
   "cell_type": "markdown",
   "metadata": {},
   "source": [
    "In order for the changes in metrics with time be more evident, we can use week over week report. \\\n",
    "This report would let us see the difference to the same day of the week as the current day, to maintain periodicity. "
   ]
  },
  {
   "cell_type": "code",
   "execution_count": 34,
   "metadata": {},
   "outputs": [
    {
     "data": {
      "text/html": [
       "<div>\n",
       "<style scoped>\n",
       "    .dataframe tbody tr th:only-of-type {\n",
       "        vertical-align: middle;\n",
       "    }\n",
       "\n",
       "    .dataframe tbody tr th {\n",
       "        vertical-align: top;\n",
       "    }\n",
       "\n",
       "    .dataframe thead th {\n",
       "        text-align: right;\n",
       "    }\n",
       "</style>\n",
       "<table border=\"1\" class=\"dataframe\">\n",
       "  <thead>\n",
       "    <tr style=\"text-align: right;\">\n",
       "      <th></th>\n",
       "      <th>custom_weeks</th>\n",
       "      <th>dates</th>\n",
       "      <th>DAU</th>\n",
       "      <th>stickiness_%</th>\n",
       "      <th>ARPU</th>\n",
       "      <th>revenue</th>\n",
       "    </tr>\n",
       "  </thead>\n",
       "  <tbody>\n",
       "    <tr>\n",
       "      <th>0</th>\n",
       "      <td>2023-02-25</td>\n",
       "      <td>2023-02-25</td>\n",
       "      <td>NaN</td>\n",
       "      <td>NaN</td>\n",
       "      <td>NaN</td>\n",
       "      <td>NaN</td>\n",
       "    </tr>\n",
       "    <tr>\n",
       "      <th>1</th>\n",
       "      <td>2023-02-25</td>\n",
       "      <td>2023-02-26</td>\n",
       "      <td>NaN</td>\n",
       "      <td>NaN</td>\n",
       "      <td>NaN</td>\n",
       "      <td>NaN</td>\n",
       "    </tr>\n",
       "    <tr>\n",
       "      <th>2</th>\n",
       "      <td>2023-02-25</td>\n",
       "      <td>2023-02-27</td>\n",
       "      <td>NaN</td>\n",
       "      <td>NaN</td>\n",
       "      <td>NaN</td>\n",
       "      <td>NaN</td>\n",
       "    </tr>\n",
       "    <tr>\n",
       "      <th>3</th>\n",
       "      <td>2023-02-25</td>\n",
       "      <td>2023-02-28</td>\n",
       "      <td>NaN</td>\n",
       "      <td>NaN</td>\n",
       "      <td>NaN</td>\n",
       "      <td>NaN</td>\n",
       "    </tr>\n",
       "    <tr>\n",
       "      <th>4</th>\n",
       "      <td>2023-02-25</td>\n",
       "      <td>2023-03-01</td>\n",
       "      <td>NaN</td>\n",
       "      <td>NaN</td>\n",
       "      <td>NaN</td>\n",
       "      <td>NaN</td>\n",
       "    </tr>\n",
       "    <tr>\n",
       "      <th>5</th>\n",
       "      <td>2023-02-25</td>\n",
       "      <td>2023-03-02</td>\n",
       "      <td>NaN</td>\n",
       "      <td>NaN</td>\n",
       "      <td>NaN</td>\n",
       "      <td>NaN</td>\n",
       "    </tr>\n",
       "    <tr>\n",
       "      <th>6</th>\n",
       "      <td>2023-02-25</td>\n",
       "      <td>2023-03-03</td>\n",
       "      <td>NaN</td>\n",
       "      <td>NaN</td>\n",
       "      <td>NaN</td>\n",
       "      <td>NaN</td>\n",
       "    </tr>\n",
       "    <tr>\n",
       "      <th>7</th>\n",
       "      <td>2023-03-04</td>\n",
       "      <td>2023-03-04</td>\n",
       "      <td>-0.065041</td>\n",
       "      <td>-0.018868</td>\n",
       "      <td>-0.084071</td>\n",
       "      <td>-0.143416</td>\n",
       "    </tr>\n",
       "    <tr>\n",
       "      <th>8</th>\n",
       "      <td>2023-03-04</td>\n",
       "      <td>2023-03-05</td>\n",
       "      <td>0.011036</td>\n",
       "      <td>0.065217</td>\n",
       "      <td>-0.319489</td>\n",
       "      <td>-0.313266</td>\n",
       "    </tr>\n",
       "    <tr>\n",
       "      <th>9</th>\n",
       "      <td>2023-03-04</td>\n",
       "      <td>2023-03-06</td>\n",
       "      <td>-0.023371</td>\n",
       "      <td>0.027149</td>\n",
       "      <td>0.187050</td>\n",
       "      <td>0.159386</td>\n",
       "    </tr>\n",
       "  </tbody>\n",
       "</table>\n",
       "</div>"
      ],
      "text/plain": [
       "  custom_weeks       dates       DAU  stickiness_%      ARPU   revenue\n",
       "0   2023-02-25  2023-02-25       NaN           NaN       NaN       NaN\n",
       "1   2023-02-25  2023-02-26       NaN           NaN       NaN       NaN\n",
       "2   2023-02-25  2023-02-27       NaN           NaN       NaN       NaN\n",
       "3   2023-02-25  2023-02-28       NaN           NaN       NaN       NaN\n",
       "4   2023-02-25  2023-03-01       NaN           NaN       NaN       NaN\n",
       "5   2023-02-25  2023-03-02       NaN           NaN       NaN       NaN\n",
       "6   2023-02-25  2023-03-03       NaN           NaN       NaN       NaN\n",
       "7   2023-03-04  2023-03-04 -0.065041     -0.018868 -0.084071 -0.143416\n",
       "8   2023-03-04  2023-03-05  0.011036      0.065217 -0.319489 -0.313266\n",
       "9   2023-03-04  2023-03-06 -0.023371      0.027149  0.187050  0.159386"
      ]
     },
     "execution_count": 34,
     "metadata": {},
     "output_type": "execute_result"
    }
   ],
   "source": [
    "metrics_by_weeks['custom_weeks'] = pd.to_datetime(metrics_by_weeks.custom_weeks)\n",
    "metrics_by_weeks = metrics_by_weeks.set_index(['custom_weeks', 'dates']).pct_change(7).reset_index()\n",
    "\n",
    "metrics_by_weeks = metrics_by_weeks.drop('WAU', axis=1)\n",
    "\n",
    "metrics_by_weeks.head(10)"
   ]
  },
  {
   "cell_type": "markdown",
   "metadata": {},
   "source": [
    "From the graphs, we can see the dynamics of metrics. \\\n",
    "ARPU seems to show slight rise but other wise is stable. \\\n",
    "There is a rise towards the middle of March and then a sudden drop on 23rd of March in DAU, stickiness, and revenue. \\\n",
    "Then, these metrics begin to rise again."
   ]
  },
  {
   "cell_type": "markdown",
   "metadata": {},
   "source": [
    "What happened in the middle of March? \\\n",
    "There is a Muslim celebration called Nauryz, which starts on 21st of March and varies in the continuation depending on the country. \\\n",
    "Since Azerbaijan, Kazakhstan, and Trukey are largely Muslim countries, so we can state that there is clear effect on gambling."
   ]
  },
  {
   "cell_type": "code",
   "execution_count": 35,
   "metadata": {},
   "outputs": [
    {
     "data": {
      "image/png": "[encoded data removed]",
      "text/plain": [
       "<Figure size 1600x700 with 4 Axes>"
      ]
     },
     "metadata": {},
     "output_type": "display_data"
    }
   ],
   "source": [
    "fig, axes = plt.subplots(2, 2, figsize=(16, 7), sharex=True)\n",
    "\n",
    "sns.lineplot(data=metrics_by_weeks, x='dates', y='DAU', ax=axes[0, 0])\n",
    "axes[0, 0].set_title(\"Change in Daily Active Users\")\n",
    "\n",
    "sns.lineplot(data=metrics_by_weeks, x='dates', y='stickiness_%', ax=axes[0, 1])\n",
    "axes[0, 1].set_title(\"Change in Stickiness %\")\n",
    "\n",
    "sns.lineplot(data=metrics_by_weeks, x='dates', y='ARPU', ax=axes[1, 0])\n",
    "axes[1, 0].set_title(\"Change in Average Revenue per Users\")\n",
    "\n",
    "sns.lineplot(data=metrics_by_weeks, x='dates', y='revenue', ax=axes[1, 1])\n",
    "axes[1, 1].set_title(\"Change in Total Revenue\")\n",
    "\n",
    "for axis in axes.flatten():\n",
    "    axis.tick_params(axis='x', rotation=45)\n",
    "\n",
    "plt.tight_layout()\n",
    "plt.show()"
   ]
  },
  {
   "cell_type": "markdown",
   "metadata": {},
   "source": [
    "## User Engagement Assessment"
   ]
  },
  {
   "cell_type": "markdown",
   "metadata": {},
   "source": [
    "Now, we want better understanding of user engagement. \\\n",
    "However, since we only have betting data and no events of user activity in the game, we will use retention metrics, which would show whether users continue to engage with the product:\n",
    "- avg_days_to_2nd - average days it takes for a user to make a 2nd bet; this metric would illustrate if the users have any interest after playing the first time\n",
    "- avg_days_diff - average days it takes for a user to make a new bet; how often does a user want to visit and play the game"
   ]
  },
  {
   "cell_type": "markdown",
   "metadata": {},
   "source": [
    "We can see that it takes longer to make a second bet than time between bets in general. \\\n",
    "It means that there is a problem with conversion into return in the beginning."
   ]
  },
  {
   "cell_type": "markdown",
   "metadata": {},
   "source": [
    "Kazakhstan has the longest period of return for a second bet and for another bet in general. \\\n",
    "That might mean that the retention startegy for Kazakhstan works worse than for other countries."
   ]
  },
  {
   "cell_type": "code",
   "execution_count": 36,
   "metadata": {},
   "outputs": [
    {
     "data": {
      "text/html": [
       "<div>\n",
       "<style scoped>\n",
       "    .dataframe tbody tr th:only-of-type {\n",
       "        vertical-align: middle;\n",
       "    }\n",
       "\n",
       "    .dataframe tbody tr th {\n",
       "        vertical-align: top;\n",
       "    }\n",
       "\n",
       "    .dataframe thead th {\n",
       "        text-align: right;\n",
       "    }\n",
       "</style>\n",
       "<table border=\"1\" class=\"dataframe\">\n",
       "  <thead>\n",
       "    <tr style=\"text-align: right;\">\n",
       "      <th></th>\n",
       "      <th></th>\n",
       "      <th>avg_days_to_2nd</th>\n",
       "      <th>avg_days_diff</th>\n",
       "    </tr>\n",
       "    <tr>\n",
       "      <th>Currency</th>\n",
       "      <th>PlatformId</th>\n",
       "      <th></th>\n",
       "      <th></th>\n",
       "    </tr>\n",
       "  </thead>\n",
       "  <tbody>\n",
       "    <tr>\n",
       "      <th rowspan=\"2\" valign=\"top\">AZN</th>\n",
       "      <th>platform_2</th>\n",
       "      <td>1.92</td>\n",
       "      <td>1.12</td>\n",
       "    </tr>\n",
       "    <tr>\n",
       "      <th>platform_3</th>\n",
       "      <td>2.14</td>\n",
       "      <td>1.14</td>\n",
       "    </tr>\n",
       "    <tr>\n",
       "      <th rowspan=\"3\" valign=\"top\">INR</th>\n",
       "      <th>platform_2</th>\n",
       "      <td>1.83</td>\n",
       "      <td>1.08</td>\n",
       "    </tr>\n",
       "    <tr>\n",
       "      <th>platform_3</th>\n",
       "      <td>1.76</td>\n",
       "      <td>1.30</td>\n",
       "    </tr>\n",
       "    <tr>\n",
       "      <th>platform_4</th>\n",
       "      <td>1.30</td>\n",
       "      <td>2.05</td>\n",
       "    </tr>\n",
       "    <tr>\n",
       "      <th rowspan=\"3\" valign=\"top\">KZT</th>\n",
       "      <th>platform_1</th>\n",
       "      <td>3.70</td>\n",
       "      <td>2.26</td>\n",
       "    </tr>\n",
       "    <tr>\n",
       "      <th>platform_2</th>\n",
       "      <td>2.62</td>\n",
       "      <td>1.57</td>\n",
       "    </tr>\n",
       "    <tr>\n",
       "      <th>platform_3</th>\n",
       "      <td>2.01</td>\n",
       "      <td>1.42</td>\n",
       "    </tr>\n",
       "    <tr>\n",
       "      <th rowspan=\"3\" valign=\"top\">TRY</th>\n",
       "      <th>platform_2</th>\n",
       "      <td>1.76</td>\n",
       "      <td>1.21</td>\n",
       "    </tr>\n",
       "    <tr>\n",
       "      <th>platform_3</th>\n",
       "      <td>1.58</td>\n",
       "      <td>0.83</td>\n",
       "    </tr>\n",
       "    <tr>\n",
       "      <th>platform_4</th>\n",
       "      <td>2.06</td>\n",
       "      <td>1.43</td>\n",
       "    </tr>\n",
       "  </tbody>\n",
       "</table>\n",
       "</div>"
      ],
      "text/plain": [
       "                     avg_days_to_2nd  avg_days_diff\n",
       "Currency PlatformId                                \n",
       "AZN      platform_2             1.92           1.12\n",
       "         platform_3             2.14           1.14\n",
       "INR      platform_2             1.83           1.08\n",
       "         platform_3             1.76           1.30\n",
       "         platform_4             1.30           2.05\n",
       "KZT      platform_1             3.70           2.26\n",
       "         platform_2             2.62           1.57\n",
       "         platform_3             2.01           1.42\n",
       "TRY      platform_2             1.76           1.21\n",
       "         platform_3             1.58           0.83\n",
       "         platform_4             2.06           1.43"
      ]
     },
     "execution_count": 36,
     "metadata": {},
     "output_type": "execute_result"
    }
   ],
   "source": [
    "user_bets = df.sort_values(['UserId', 'CreatedAt'])\n",
    "\n",
    "user_bets['diff_days_2nd'] = user_bets.groupby('UserId')['CreatedAt'].diff().where(df.groupby('UserId').cumcount() == 1).dt.total_seconds() / 86400\n",
    "\n",
    "user_bets['diff_days'] = user_bets.groupby('UserId')['CreatedAt'].diff().dt.total_seconds() / 86400\n",
    "\n",
    "by_category = user_bets.groupby([\"Currency\", \"PlatformId\"]) \\\n",
    "                        .agg(avg_days_to_2nd=('diff_days_2nd', 'mean'),\n",
    "                            avg_days_diff=('diff_days', 'mean'))\n",
    "\n",
    "by_category['avg_days_to_2nd'] = by_category.avg_days_to_2nd.round(2)\n",
    "by_category['avg_days_diff'] = by_category.avg_days_diff.round(2)\n",
    "\n",
    "by_category"
   ]
  },
  {
   "cell_type": "markdown",
   "metadata": {},
   "source": [
    "## Additional Data"
   ]
  },
  {
   "cell_type": "markdown",
   "metadata": {},
   "source": [
    "In order to assess user engagement more thoroughly, the following metrics would be required:\n",
    "- session duration - events that begin and end user's session\n",
    "- conversion - events that would show crucial steps in the funnel to activate user\n",
    "- achievement unlocks - user_id and timestamp when each achievement was unlocked after level and experience progression; also the name and description of each unique achievement\n",
    "- NFT customization - events that indicate each time a player engages in changing his/her plane"
   ]
  }
 ],
 "metadata": {
  "kernelspec": {
   "display_name": "Python 3",
   "language": "python",
   "name": "python3"
  },
  "language_info": {
   "codemirror_mode": {
    "name": "ipython",
    "version": 3
   },
   "file_extension": ".py",
   "mimetype": "text/x-python",
   "name": "python",
   "nbconvert_exporter": "python",
   "pygments_lexer": "ipython3",
   "version": "3.11.6"
  }
 },
 "nbformat": 4,
 "nbformat_minor": 2
}
