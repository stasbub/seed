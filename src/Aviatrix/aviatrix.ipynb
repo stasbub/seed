{
 "cells": [
  {
   "cell_type": "markdown",
   "metadata": {},
   "source": [
    "# Aviatrix Analytics Assignment"
   ]
  },
  {
   "cell_type": "code",
   "execution_count": 3,
   "metadata": {
    "tags": []
   },
   "outputs": [],
   "source": [
    "import pandas as pd"
   ]
  },
  {
   "cell_type": "code",
   "execution_count": 24,
   "metadata": {},
   "outputs": [
    {
     "data": {
      "text/html": [
       "<div>\n",
       "<style scoped>\n",
       "    .dataframe tbody tr th:only-of-type {\n",
       "        vertical-align: middle;\n",
       "    }\n",
       "\n",
       "    .dataframe tbody tr th {\n",
       "        vertical-align: top;\n",
       "    }\n",
       "\n",
       "    .dataframe thead th {\n",
       "        text-align: right;\n",
       "    }\n",
       "</style>\n",
       "<table border=\"1\" class=\"dataframe\">\n",
       "  <thead>\n",
       "    <tr style=\"text-align: right;\">\n",
       "      <th></th>\n",
       "      <th>CreatedAt</th>\n",
       "      <th>Currency</th>\n",
       "      <th>UserId</th>\n",
       "      <th>PlatformId</th>\n",
       "      <th>MatchId</th>\n",
       "      <th>stake_currency</th>\n",
       "      <th>stake_eur</th>\n",
       "      <th>won_currency</th>\n",
       "      <th>won_eur</th>\n",
       "    </tr>\n",
       "  </thead>\n",
       "  <tbody>\n",
       "    <tr>\n",
       "      <th>0</th>\n",
       "      <td>2023-03-20 15:01:13.304718058</td>\n",
       "      <td>KZT</td>\n",
       "      <td>wqsjm3ggga</td>\n",
       "      <td>platform_2</td>\n",
       "      <td>1013616</td>\n",
       "      <td>203.29</td>\n",
       "      <td>0.41</td>\n",
       "      <td>0.00</td>\n",
       "      <td>0.00</td>\n",
       "    </tr>\n",
       "    <tr>\n",
       "      <th>1</th>\n",
       "      <td>2023-03-13 13:40:07.304718058</td>\n",
       "      <td>TRY</td>\n",
       "      <td>enrlnd1u6y</td>\n",
       "      <td>platform_4</td>\n",
       "      <td>982714</td>\n",
       "      <td>1.88</td>\n",
       "      <td>0.09</td>\n",
       "      <td>5.79</td>\n",
       "      <td>0.29</td>\n",
       "    </tr>\n",
       "    <tr>\n",
       "      <th>2</th>\n",
       "      <td>2023-03-22 00:39:12.304718058</td>\n",
       "      <td>KZT</td>\n",
       "      <td>5nz03e471b</td>\n",
       "      <td>platform_1</td>\n",
       "      <td>1019784</td>\n",
       "      <td>605.22</td>\n",
       "      <td>1.21</td>\n",
       "      <td>0.00</td>\n",
       "      <td>0.00</td>\n",
       "    </tr>\n",
       "    <tr>\n",
       "      <th>3</th>\n",
       "      <td>2023-03-22 06:14:56.304718058</td>\n",
       "      <td>KZT</td>\n",
       "      <td>fiatnpu27d</td>\n",
       "      <td>platform_2</td>\n",
       "      <td>1020804</td>\n",
       "      <td>33.99</td>\n",
       "      <td>0.07</td>\n",
       "      <td>0.00</td>\n",
       "      <td>0.00</td>\n",
       "    </tr>\n",
       "    <tr>\n",
       "      <th>4</th>\n",
       "      <td>2023-03-01 14:32:41.304718058</td>\n",
       "      <td>KZT</td>\n",
       "      <td>1zx0tpf58u</td>\n",
       "      <td>platform_1</td>\n",
       "      <td>930347</td>\n",
       "      <td>18.93</td>\n",
       "      <td>0.04</td>\n",
       "      <td>0.00</td>\n",
       "      <td>0.00</td>\n",
       "    </tr>\n",
       "    <tr>\n",
       "      <th>...</th>\n",
       "      <td>...</td>\n",
       "      <td>...</td>\n",
       "      <td>...</td>\n",
       "      <td>...</td>\n",
       "      <td>...</td>\n",
       "      <td>...</td>\n",
       "      <td>...</td>\n",
       "      <td>...</td>\n",
       "      <td>...</td>\n",
       "    </tr>\n",
       "    <tr>\n",
       "      <th>99984</th>\n",
       "      <td>2023-03-27 05:50:36.304718058</td>\n",
       "      <td>KZT</td>\n",
       "      <td>yy04sqqhsn</td>\n",
       "      <td>platform_2</td>\n",
       "      <td>1042809</td>\n",
       "      <td>73.09</td>\n",
       "      <td>0.15</td>\n",
       "      <td>73.09</td>\n",
       "      <td>0.15</td>\n",
       "    </tr>\n",
       "    <tr>\n",
       "      <th>99985</th>\n",
       "      <td>2023-04-05 14:17:12.304718058</td>\n",
       "      <td>TRY</td>\n",
       "      <td>w86x6fnbx5</td>\n",
       "      <td>platform_2</td>\n",
       "      <td>1083864</td>\n",
       "      <td>5.73</td>\n",
       "      <td>0.27</td>\n",
       "      <td>0.00</td>\n",
       "      <td>0.00</td>\n",
       "    </tr>\n",
       "    <tr>\n",
       "      <th>99986</th>\n",
       "      <td>2023-03-11 19:34:34.304718058</td>\n",
       "      <td>KZT</td>\n",
       "      <td>w87kmjmmuc</td>\n",
       "      <td>platform_3</td>\n",
       "      <td>975059</td>\n",
       "      <td>26.22</td>\n",
       "      <td>0.05</td>\n",
       "      <td>0.00</td>\n",
       "      <td>0.00</td>\n",
       "    </tr>\n",
       "    <tr>\n",
       "      <th>99987</th>\n",
       "      <td>2023-03-31 21:33:30.304718058</td>\n",
       "      <td>KZT</td>\n",
       "      <td>bkwmgy6e6b</td>\n",
       "      <td>platform_1</td>\n",
       "      <td>1063176</td>\n",
       "      <td>88.01</td>\n",
       "      <td>0.18</td>\n",
       "      <td>0.00</td>\n",
       "      <td>0.00</td>\n",
       "    </tr>\n",
       "    <tr>\n",
       "      <th>99988</th>\n",
       "      <td>2023-03-19 21:53:13.304718058</td>\n",
       "      <td>TRY</td>\n",
       "      <td>n2vnuq6uwh</td>\n",
       "      <td>platform_4</td>\n",
       "      <td>1010452</td>\n",
       "      <td>30.03</td>\n",
       "      <td>1.47</td>\n",
       "      <td>0.00</td>\n",
       "      <td>0.00</td>\n",
       "    </tr>\n",
       "  </tbody>\n",
       "</table>\n",
       "<p>99989 rows × 9 columns</p>\n",
       "</div>"
      ],
      "text/plain": [
       "                          CreatedAt Currency      UserId  PlatformId  MatchId  \\\n",
       "0     2023-03-20 15:01:13.304718058      KZT  wqsjm3ggga  platform_2  1013616   \n",
       "1     2023-03-13 13:40:07.304718058      TRY  enrlnd1u6y  platform_4   982714   \n",
       "2     2023-03-22 00:39:12.304718058      KZT  5nz03e471b  platform_1  1019784   \n",
       "3     2023-03-22 06:14:56.304718058      KZT  fiatnpu27d  platform_2  1020804   \n",
       "4     2023-03-01 14:32:41.304718058      KZT  1zx0tpf58u  platform_1   930347   \n",
       "...                             ...      ...         ...         ...      ...   \n",
       "99984 2023-03-27 05:50:36.304718058      KZT  yy04sqqhsn  platform_2  1042809   \n",
       "99985 2023-04-05 14:17:12.304718058      TRY  w86x6fnbx5  platform_2  1083864   \n",
       "99986 2023-03-11 19:34:34.304718058      KZT  w87kmjmmuc  platform_3   975059   \n",
       "99987 2023-03-31 21:33:30.304718058      KZT  bkwmgy6e6b  platform_1  1063176   \n",
       "99988 2023-03-19 21:53:13.304718058      TRY  n2vnuq6uwh  platform_4  1010452   \n",
       "\n",
       "       stake_currency  stake_eur  won_currency  won_eur  \n",
       "0              203.29       0.41          0.00     0.00  \n",
       "1                1.88       0.09          5.79     0.29  \n",
       "2              605.22       1.21          0.00     0.00  \n",
       "3               33.99       0.07          0.00     0.00  \n",
       "4               18.93       0.04          0.00     0.00  \n",
       "...               ...        ...           ...      ...  \n",
       "99984           73.09       0.15         73.09     0.15  \n",
       "99985            5.73       0.27          0.00     0.00  \n",
       "99986           26.22       0.05          0.00     0.00  \n",
       "99987           88.01       0.18          0.00     0.00  \n",
       "99988           30.03       1.47          0.00     0.00  \n",
       "\n",
       "[99989 rows x 9 columns]"
      ]
     },
     "execution_count": 24,
     "metadata": {},
     "output_type": "execute_result"
    }
   ],
   "source": [
    "df = pd.read_csv('test_data.csv', parse_dates=['CreatedAt'])\n",
    "df"
   ]
  },
  {
   "cell_type": "markdown",
   "metadata": {},
   "source": [
    "## Identify and describe errors in the data"
   ]
  },
  {
   "cell_type": "markdown",
   "metadata": {},
   "source": [
    "From the very start we can see that the platform column registers platforms as listed below. \\\n",
    "This is fitting for a good analysis, because one does not actually know from which platform a bet was made."
   ]
  },
  {
   "cell_type": "code",
   "execution_count": 29,
   "metadata": {},
   "outputs": [
    {
     "data": {
      "text/plain": [
       "array(['platform_2', 'platform_4', 'platform_1', 'platform_3'],\n",
       "      dtype=object)"
      ]
     },
     "execution_count": 29,
     "metadata": {},
     "output_type": "execute_result"
    }
   ],
   "source": [
    "df['PlatformId'].unique()"
   ]
  },
  {
   "cell_type": "markdown",
   "metadata": {},
   "source": [
    "df.dtypes()"
   ]
  },
  {
   "cell_type": "code",
   "execution_count": 34,
   "metadata": {},
   "outputs": [
    {
     "ename": "SyntaxError",
     "evalue": "invalid syntax (<unknown>, line 1)",
     "output_type": "error",
     "traceback": [
      "Traceback \u001b[0;36m(most recent call last)\u001b[0m:\n",
      "\u001b[0m  File \u001b[1;32m~/.local/lib/python3.10/site-packages/IPython/core/interactiveshell.py:3460\u001b[0m in \u001b[1;35mrun_code\u001b[0m\n    exec(code_obj, self.user_global_ns, self.user_ns)\u001b[0m\n",
      "\u001b[0m  Cell \u001b[1;32mIn[34], line 1\u001b[0m\n    df.query('stake_eur IS NULL')\u001b[0m\n",
      "\u001b[0m  File \u001b[1;32m~/.local/lib/python3.10/site-packages/pandas/util/_decorators.py:331\u001b[0m in \u001b[1;35mwrapper\u001b[0m\n    return func(*args, **kwargs)\u001b[0m\n",
      "\u001b[0m  File \u001b[1;32m~/.local/lib/python3.10/site-packages/pandas/core/frame.py:4474\u001b[0m in \u001b[1;35mquery\u001b[0m\n    res = self.eval(expr, **kwargs)\u001b[0m\n",
      "\u001b[0m  File \u001b[1;32m~/.local/lib/python3.10/site-packages/pandas/util/_decorators.py:331\u001b[0m in \u001b[1;35mwrapper\u001b[0m\n    return func(*args, **kwargs)\u001b[0m\n",
      "\u001b[0m  File \u001b[1;32m~/.local/lib/python3.10/site-packages/pandas/core/frame.py:4612\u001b[0m in \u001b[1;35meval\u001b[0m\n    return _eval(expr, inplace=inplace, **kwargs)\u001b[0m\n",
      "\u001b[0m  File \u001b[1;32m~/.local/lib/python3.10/site-packages/pandas/core/computation/eval.py:353\u001b[0m in \u001b[1;35meval\u001b[0m\n    parsed_expr = Expr(expr, engine=engine, parser=parser, env=env)\u001b[0m\n",
      "\u001b[0m  File \u001b[1;32m~/.local/lib/python3.10/site-packages/pandas/core/computation/expr.py:813\u001b[0m in \u001b[1;35m__init__\u001b[0m\n    self.terms = self.parse()\u001b[0m\n",
      "\u001b[0m  File \u001b[1;32m~/.local/lib/python3.10/site-packages/pandas/core/computation/expr.py:832\u001b[0m in \u001b[1;35mparse\u001b[0m\n    return self._visitor.visit(self.expr)\u001b[0m\n",
      "\u001b[0m  File \u001b[1;32m~/.local/lib/python3.10/site-packages/pandas/core/computation/expr.py:411\u001b[0m in \u001b[1;35mvisit\u001b[0m\n    raise e\u001b[0m\n",
      "\u001b[0m  File \u001b[1;32m~/.local/lib/python3.10/site-packages/pandas/core/computation/expr.py:407\u001b[0m in \u001b[1;35mvisit\u001b[0m\n    node = ast.fix_missing_locations(ast.parse(clean))\u001b[0m\n",
      "\u001b[0;36m  File \u001b[0;32m/usr/lib/python3.10/ast.py:50\u001b[0;36m in \u001b[0;35mparse\u001b[0;36m\n\u001b[0;31m    return compile(source, filename, mode, flags,\u001b[0;36m\n",
      "\u001b[0;36m  File \u001b[0;32m<unknown>:1\u001b[0;36m\u001b[0m\n\u001b[0;31m    stake_eur IS NULL\u001b[0m\n\u001b[0m              ^\u001b[0m\n\u001b[0;31mSyntaxError\u001b[0m\u001b[0;31m:\u001b[0m invalid syntax\n"
     ]
    }
   ],
   "source": [
    "df.query('stake_eur IS NULL')"
   ]
  },
  {
   "cell_type": "code",
   "execution_count": null,
   "metadata": {},
   "outputs": [],
   "source": [
    "df.describe().drop(columns=['MatchId'])"
   ]
  }
 ],
 "metadata": {
  "kernelspec": {
   "display_name": "Python 3",
   "language": "python",
   "name": "python3"
  },
  "language_info": {
   "codemirror_mode": {
    "name": "ipython",
    "version": 3
   },
   "file_extension": ".py",
   "mimetype": "text/x-python",
   "name": "python",
   "nbconvert_exporter": "python",
   "pygments_lexer": "ipython3",
   "version": "3.10.12"
  }
 },
 "nbformat": 4,
 "nbformat_minor": 2
}
