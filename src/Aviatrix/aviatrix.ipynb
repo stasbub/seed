{
 "cells": [
  {
   "cell_type": "markdown",
   "metadata": {},
   "source": [
    "# Aviatrix Analytics Assignment"
   ]
  },
  {
   "cell_type": "code",
   "execution_count": 126,
   "metadata": {
    "tags": []
   },
   "outputs": [],
   "source": [
    "import pandas as pd\n",
    "import seaborn as sns\n",
    "import numpy as np\n",
    "import matplotlib.pyplot as plt"
   ]
  },
  {
   "cell_type": "code",
   "execution_count": 127,
   "metadata": {},
   "outputs": [
    {
     "data": {
      "text/html": [
       "<div>\n",
       "<style scoped>\n",
       "    .dataframe tbody tr th:only-of-type {\n",
       "        vertical-align: middle;\n",
       "    }\n",
       "\n",
       "    .dataframe tbody tr th {\n",
       "        vertical-align: top;\n",
       "    }\n",
       "\n",
       "    .dataframe thead th {\n",
       "        text-align: right;\n",
       "    }\n",
       "</style>\n",
       "<table border=\"1\" class=\"dataframe\">\n",
       "  <thead>\n",
       "    <tr style=\"text-align: right;\">\n",
       "      <th></th>\n",
       "      <th>CreatedAt</th>\n",
       "      <th>Currency</th>\n",
       "      <th>UserId</th>\n",
       "      <th>PlatformId</th>\n",
       "      <th>MatchId</th>\n",
       "      <th>stake_currency</th>\n",
       "      <th>stake_eur</th>\n",
       "      <th>won_currency</th>\n",
       "      <th>won_eur</th>\n",
       "    </tr>\n",
       "  </thead>\n",
       "  <tbody>\n",
       "    <tr>\n",
       "      <th>0</th>\n",
       "      <td>2023-03-20 15:01:13.304718058</td>\n",
       "      <td>KZT</td>\n",
       "      <td>wqsjm3ggga</td>\n",
       "      <td>platform_2</td>\n",
       "      <td>1013616</td>\n",
       "      <td>203.29</td>\n",
       "      <td>0.41</td>\n",
       "      <td>0.00</td>\n",
       "      <td>0.00</td>\n",
       "    </tr>\n",
       "    <tr>\n",
       "      <th>1</th>\n",
       "      <td>2023-03-13 13:40:07.304718058</td>\n",
       "      <td>TRY</td>\n",
       "      <td>enrlnd1u6y</td>\n",
       "      <td>platform_4</td>\n",
       "      <td>982714</td>\n",
       "      <td>1.88</td>\n",
       "      <td>0.09</td>\n",
       "      <td>5.79</td>\n",
       "      <td>0.29</td>\n",
       "    </tr>\n",
       "    <tr>\n",
       "      <th>2</th>\n",
       "      <td>2023-03-22 00:39:12.304718058</td>\n",
       "      <td>KZT</td>\n",
       "      <td>5nz03e471b</td>\n",
       "      <td>platform_1</td>\n",
       "      <td>1019784</td>\n",
       "      <td>605.22</td>\n",
       "      <td>1.21</td>\n",
       "      <td>0.00</td>\n",
       "      <td>0.00</td>\n",
       "    </tr>\n",
       "    <tr>\n",
       "      <th>3</th>\n",
       "      <td>2023-03-22 06:14:56.304718058</td>\n",
       "      <td>KZT</td>\n",
       "      <td>fiatnpu27d</td>\n",
       "      <td>platform_2</td>\n",
       "      <td>1020804</td>\n",
       "      <td>33.99</td>\n",
       "      <td>0.07</td>\n",
       "      <td>0.00</td>\n",
       "      <td>0.00</td>\n",
       "    </tr>\n",
       "    <tr>\n",
       "      <th>4</th>\n",
       "      <td>2023-03-01 14:32:41.304718058</td>\n",
       "      <td>KZT</td>\n",
       "      <td>1zx0tpf58u</td>\n",
       "      <td>platform_1</td>\n",
       "      <td>930347</td>\n",
       "      <td>18.93</td>\n",
       "      <td>0.04</td>\n",
       "      <td>0.00</td>\n",
       "      <td>0.00</td>\n",
       "    </tr>\n",
       "    <tr>\n",
       "      <th>...</th>\n",
       "      <td>...</td>\n",
       "      <td>...</td>\n",
       "      <td>...</td>\n",
       "      <td>...</td>\n",
       "      <td>...</td>\n",
       "      <td>...</td>\n",
       "      <td>...</td>\n",
       "      <td>...</td>\n",
       "      <td>...</td>\n",
       "    </tr>\n",
       "    <tr>\n",
       "      <th>99984</th>\n",
       "      <td>2023-03-27 05:50:36.304718058</td>\n",
       "      <td>KZT</td>\n",
       "      <td>yy04sqqhsn</td>\n",
       "      <td>platform_2</td>\n",
       "      <td>1042809</td>\n",
       "      <td>73.09</td>\n",
       "      <td>0.15</td>\n",
       "      <td>73.09</td>\n",
       "      <td>0.15</td>\n",
       "    </tr>\n",
       "    <tr>\n",
       "      <th>99985</th>\n",
       "      <td>2023-04-05 14:17:12.304718058</td>\n",
       "      <td>TRY</td>\n",
       "      <td>w86x6fnbx5</td>\n",
       "      <td>platform_2</td>\n",
       "      <td>1083864</td>\n",
       "      <td>5.73</td>\n",
       "      <td>0.27</td>\n",
       "      <td>0.00</td>\n",
       "      <td>0.00</td>\n",
       "    </tr>\n",
       "    <tr>\n",
       "      <th>99986</th>\n",
       "      <td>2023-03-11 19:34:34.304718058</td>\n",
       "      <td>KZT</td>\n",
       "      <td>w87kmjmmuc</td>\n",
       "      <td>platform_3</td>\n",
       "      <td>975059</td>\n",
       "      <td>26.22</td>\n",
       "      <td>0.05</td>\n",
       "      <td>0.00</td>\n",
       "      <td>0.00</td>\n",
       "    </tr>\n",
       "    <tr>\n",
       "      <th>99987</th>\n",
       "      <td>2023-03-31 21:33:30.304718058</td>\n",
       "      <td>KZT</td>\n",
       "      <td>bkwmgy6e6b</td>\n",
       "      <td>platform_1</td>\n",
       "      <td>1063176</td>\n",
       "      <td>88.01</td>\n",
       "      <td>0.18</td>\n",
       "      <td>0.00</td>\n",
       "      <td>0.00</td>\n",
       "    </tr>\n",
       "    <tr>\n",
       "      <th>99988</th>\n",
       "      <td>2023-03-19 21:53:13.304718058</td>\n",
       "      <td>TRY</td>\n",
       "      <td>n2vnuq6uwh</td>\n",
       "      <td>platform_4</td>\n",
       "      <td>1010452</td>\n",
       "      <td>30.03</td>\n",
       "      <td>1.47</td>\n",
       "      <td>0.00</td>\n",
       "      <td>0.00</td>\n",
       "    </tr>\n",
       "  </tbody>\n",
       "</table>\n",
       "<p>99989 rows × 9 columns</p>\n",
       "</div>"
      ],
      "text/plain": [
       "                          CreatedAt Currency      UserId  PlatformId  MatchId  \\\n",
       "0     2023-03-20 15:01:13.304718058      KZT  wqsjm3ggga  platform_2  1013616   \n",
       "1     2023-03-13 13:40:07.304718058      TRY  enrlnd1u6y  platform_4   982714   \n",
       "2     2023-03-22 00:39:12.304718058      KZT  5nz03e471b  platform_1  1019784   \n",
       "3     2023-03-22 06:14:56.304718058      KZT  fiatnpu27d  platform_2  1020804   \n",
       "4     2023-03-01 14:32:41.304718058      KZT  1zx0tpf58u  platform_1   930347   \n",
       "...                             ...      ...         ...         ...      ...   \n",
       "99984 2023-03-27 05:50:36.304718058      KZT  yy04sqqhsn  platform_2  1042809   \n",
       "99985 2023-04-05 14:17:12.304718058      TRY  w86x6fnbx5  platform_2  1083864   \n",
       "99986 2023-03-11 19:34:34.304718058      KZT  w87kmjmmuc  platform_3   975059   \n",
       "99987 2023-03-31 21:33:30.304718058      KZT  bkwmgy6e6b  platform_1  1063176   \n",
       "99988 2023-03-19 21:53:13.304718058      TRY  n2vnuq6uwh  platform_4  1010452   \n",
       "\n",
       "       stake_currency  stake_eur  won_currency  won_eur  \n",
       "0              203.29       0.41          0.00     0.00  \n",
       "1                1.88       0.09          5.79     0.29  \n",
       "2              605.22       1.21          0.00     0.00  \n",
       "3               33.99       0.07          0.00     0.00  \n",
       "4               18.93       0.04          0.00     0.00  \n",
       "...               ...        ...           ...      ...  \n",
       "99984           73.09       0.15         73.09     0.15  \n",
       "99985            5.73       0.27          0.00     0.00  \n",
       "99986           26.22       0.05          0.00     0.00  \n",
       "99987           88.01       0.18          0.00     0.00  \n",
       "99988           30.03       1.47          0.00     0.00  \n",
       "\n",
       "[99989 rows x 9 columns]"
      ]
     },
     "execution_count": 127,
     "metadata": {},
     "output_type": "execute_result"
    }
   ],
   "source": [
    "df = pd.read_csv('test_data.csv', parse_dates=['CreatedAt'])\n",
    "df"
   ]
  },
  {
   "cell_type": "markdown",
   "metadata": {},
   "source": [
    "## Identify and describe errors in the data"
   ]
  },
  {
   "cell_type": "markdown",
   "metadata": {},
   "source": [
    "Types of data seem to be consistent with what they represent."
   ]
  },
  {
   "cell_type": "code",
   "execution_count": 128,
   "metadata": {},
   "outputs": [
    {
     "data": {
      "text/plain": [
       "CreatedAt         datetime64[ns]\n",
       "Currency                  object\n",
       "UserId                    object\n",
       "PlatformId                object\n",
       "MatchId                    int64\n",
       "stake_currency           float64\n",
       "stake_eur                float64\n",
       "won_currency             float64\n",
       "won_eur                  float64\n",
       "dtype: object"
      ]
     },
     "execution_count": 128,
     "metadata": {},
     "output_type": "execute_result"
    }
   ],
   "source": [
    "df.dtypes"
   ]
  },
  {
   "cell_type": "markdown",
   "metadata": {},
   "source": [
    "From the very start we can see that the platform column registers platforms as listed below. \\\n",
    "This is not fitting for a good analysis, because one does not actually know from which platform a bet was made."
   ]
  },
  {
   "cell_type": "code",
   "execution_count": 129,
   "metadata": {},
   "outputs": [
    {
     "data": {
      "text/plain": [
       "array(['platform_2', 'platform_4', 'platform_1', 'platform_3'],\n",
       "      dtype=object)"
      ]
     },
     "execution_count": 129,
     "metadata": {},
     "output_type": "execute_result"
    }
   ],
   "source": [
    "df['PlatformId'].unique()"
   ]
  },
  {
   "cell_type": "markdown",
   "metadata": {},
   "source": [
    "Lets try to see if there are any missing values in data. \\\n",
    "There is no missing data in the dataframe."
   ]
  },
  {
   "cell_type": "code",
   "execution_count": 130,
   "metadata": {},
   "outputs": [
    {
     "data": {
      "text/html": [
       "<div>\n",
       "<style scoped>\n",
       "    .dataframe tbody tr th:only-of-type {\n",
       "        vertical-align: middle;\n",
       "    }\n",
       "\n",
       "    .dataframe tbody tr th {\n",
       "        vertical-align: top;\n",
       "    }\n",
       "\n",
       "    .dataframe thead th {\n",
       "        text-align: right;\n",
       "    }\n",
       "</style>\n",
       "<table border=\"1\" class=\"dataframe\">\n",
       "  <thead>\n",
       "    <tr style=\"text-align: right;\">\n",
       "      <th></th>\n",
       "      <th>CreatedAt</th>\n",
       "      <th>Currency</th>\n",
       "      <th>UserId</th>\n",
       "      <th>PlatformId</th>\n",
       "      <th>MatchId</th>\n",
       "      <th>stake_currency</th>\n",
       "      <th>stake_eur</th>\n",
       "      <th>won_currency</th>\n",
       "      <th>won_eur</th>\n",
       "    </tr>\n",
       "  </thead>\n",
       "  <tbody>\n",
       "  </tbody>\n",
       "</table>\n",
       "</div>"
      ],
      "text/plain": [
       "Empty DataFrame\n",
       "Columns: [CreatedAt, Currency, UserId, PlatformId, MatchId, stake_currency, stake_eur, won_currency, won_eur]\n",
       "Index: []"
      ]
     },
     "execution_count": 130,
     "metadata": {},
     "output_type": "execute_result"
    }
   ],
   "source": [
    "df[df.isna().any(axis=1)]"
   ]
  },
  {
   "cell_type": "markdown",
   "metadata": {},
   "source": [
    "There are also no duplicate entries."
   ]
  },
  {
   "cell_type": "code",
   "execution_count": 131,
   "metadata": {},
   "outputs": [
    {
     "data": {
      "text/html": [
       "<div>\n",
       "<style scoped>\n",
       "    .dataframe tbody tr th:only-of-type {\n",
       "        vertical-align: middle;\n",
       "    }\n",
       "\n",
       "    .dataframe tbody tr th {\n",
       "        vertical-align: top;\n",
       "    }\n",
       "\n",
       "    .dataframe thead th {\n",
       "        text-align: right;\n",
       "    }\n",
       "</style>\n",
       "<table border=\"1\" class=\"dataframe\">\n",
       "  <thead>\n",
       "    <tr style=\"text-align: right;\">\n",
       "      <th></th>\n",
       "      <th>CreatedAt</th>\n",
       "      <th>Currency</th>\n",
       "      <th>UserId</th>\n",
       "      <th>PlatformId</th>\n",
       "      <th>MatchId</th>\n",
       "      <th>stake_currency</th>\n",
       "      <th>stake_eur</th>\n",
       "      <th>won_currency</th>\n",
       "      <th>won_eur</th>\n",
       "    </tr>\n",
       "  </thead>\n",
       "  <tbody>\n",
       "  </tbody>\n",
       "</table>\n",
       "</div>"
      ],
      "text/plain": [
       "Empty DataFrame\n",
       "Columns: [CreatedAt, Currency, UserId, PlatformId, MatchId, stake_currency, stake_eur, won_currency, won_eur]\n",
       "Index: []"
      ]
     },
     "execution_count": 131,
     "metadata": {},
     "output_type": "execute_result"
    }
   ],
   "source": [
    "df[df.duplicated()]"
   ]
  },
  {
   "cell_type": "markdown",
   "metadata": {},
   "source": [
    "The currencies seem to fit to the world definitions:\n",
    "- KZT - Kazakhstan tenge\n",
    "- TRY - TUrkey lire\n",
    "- AZN - Azerbaijani manat\n",
    "- INR - Indian rupee"
   ]
  },
  {
   "cell_type": "code",
   "execution_count": 132,
   "metadata": {},
   "outputs": [
    {
     "data": {
      "text/plain": [
       "array(['KZT', 'TRY', 'AZN', 'INR'], dtype=object)"
      ]
     },
     "execution_count": 132,
     "metadata": {},
     "output_type": "execute_result"
    }
   ],
   "source": [
    "df.Currency.unique()"
   ]
  },
  {
   "cell_type": "markdown",
   "metadata": {},
   "source": [
    "**There seem to be no more errors apart from names of platforms.**"
   ]
  },
  {
   "cell_type": "markdown",
   "metadata": {},
   "source": [
    "## A Brief Report: Description Metrics"
   ]
  },
  {
   "cell_type": "markdown",
   "metadata": {},
   "source": [
    "Lets start with data overview."
   ]
  },
  {
   "cell_type": "markdown",
   "metadata": {},
   "source": [
    "Since every row is a single bet, we can say that the dataset contains about 100 thousand bets."
   ]
  },
  {
   "cell_type": "code",
   "execution_count": 133,
   "metadata": {},
   "outputs": [
    {
     "name": "stdout",
     "output_type": "stream",
     "text": [
      "Number of Rows: 99989\n",
      "Number of Columns: 9\n"
     ]
    }
   ],
   "source": [
    "num_rows = len(df)\n",
    "num_columns = len(df.columns)\n",
    "\n",
    "print(\"Number of Rows:\", num_rows)\n",
    "print(\"Number of Columns:\", num_columns)"
   ]
  },
  {
   "cell_type": "markdown",
   "metadata": {},
   "source": [
    "Now, lets look at the general summary statistics of datetime, euros bet (stake_eur) and euros won (won_eur)."
   ]
  },
  {
   "cell_type": "markdown",
   "metadata": {},
   "source": [
    "We can see that there is 36 days worth of data in the dataset."
   ]
  },
  {
   "cell_type": "markdown",
   "metadata": {},
   "source": [
    "As we can see, the difference between mean euros bet and mean euros won is small, but the median for euros won is 0. \\\n",
    "It means that the first 50% of players bet from 0 to 0.21 euros, but win nothing. \\\n",
    "However, top 25% of players win from 0.25 euros up to 14569.58 euros."
   ]
  },
  {
   "cell_type": "code",
   "execution_count": 134,
   "metadata": {},
   "outputs": [
    {
     "data": {
      "text/html": [
       "<div>\n",
       "<style scoped>\n",
       "    .dataframe tbody tr th:only-of-type {\n",
       "        vertical-align: middle;\n",
       "    }\n",
       "\n",
       "    .dataframe tbody tr th {\n",
       "        vertical-align: top;\n",
       "    }\n",
       "\n",
       "    .dataframe thead th {\n",
       "        text-align: right;\n",
       "    }\n",
       "</style>\n",
       "<table border=\"1\" class=\"dataframe\">\n",
       "  <thead>\n",
       "    <tr style=\"text-align: right;\">\n",
       "      <th></th>\n",
       "      <th>CreatedAt</th>\n",
       "      <th>stake_eur</th>\n",
       "      <th>won_eur</th>\n",
       "    </tr>\n",
       "  </thead>\n",
       "  <tbody>\n",
       "    <tr>\n",
       "      <th>count</th>\n",
       "      <td>99989</td>\n",
       "      <td>99989.000000</td>\n",
       "      <td>99989.000000</td>\n",
       "    </tr>\n",
       "    <tr>\n",
       "      <th>mean</th>\n",
       "      <td>2023-03-17 10:43:32.748456960</td>\n",
       "      <td>1.598604</td>\n",
       "      <td>1.491250</td>\n",
       "    </tr>\n",
       "    <tr>\n",
       "      <th>min</th>\n",
       "      <td>2023-02-25 00:00:02.304718058</td>\n",
       "      <td>0.000000</td>\n",
       "      <td>0.000000</td>\n",
       "    </tr>\n",
       "    <tr>\n",
       "      <th>25%</th>\n",
       "      <td>2023-03-07 05:59:04.304718080</td>\n",
       "      <td>0.090000</td>\n",
       "      <td>0.000000</td>\n",
       "    </tr>\n",
       "    <tr>\n",
       "      <th>50%</th>\n",
       "      <td>2023-03-17 09:50:28.304718080</td>\n",
       "      <td>0.210000</td>\n",
       "      <td>0.000000</td>\n",
       "    </tr>\n",
       "    <tr>\n",
       "      <th>75%</th>\n",
       "      <td>2023-03-27 19:31:43.304718080</td>\n",
       "      <td>0.820000</td>\n",
       "      <td>0.250000</td>\n",
       "    </tr>\n",
       "    <tr>\n",
       "      <th>max</th>\n",
       "      <td>2023-04-06 23:37:06.304718058</td>\n",
       "      <td>320.050000</td>\n",
       "      <td>1469.580000</td>\n",
       "    </tr>\n",
       "    <tr>\n",
       "      <th>std</th>\n",
       "      <td>NaN</td>\n",
       "      <td>8.243046</td>\n",
       "      <td>14.491416</td>\n",
       "    </tr>\n",
       "  </tbody>\n",
       "</table>\n",
       "</div>"
      ],
      "text/plain": [
       "                           CreatedAt     stake_eur       won_eur\n",
       "count                          99989  99989.000000  99989.000000\n",
       "mean   2023-03-17 10:43:32.748456960      1.598604      1.491250\n",
       "min    2023-02-25 00:00:02.304718058      0.000000      0.000000\n",
       "25%    2023-03-07 05:59:04.304718080      0.090000      0.000000\n",
       "50%    2023-03-17 09:50:28.304718080      0.210000      0.000000\n",
       "75%    2023-03-27 19:31:43.304718080      0.820000      0.250000\n",
       "max    2023-04-06 23:37:06.304718058    320.050000   1469.580000\n",
       "std                              NaN      8.243046     14.491416"
      ]
     },
     "execution_count": 134,
     "metadata": {},
     "output_type": "execute_result"
    }
   ],
   "source": [
    "df.drop(columns=['MatchId', 'stake_currency', 'won_currency']).describe()"
   ]
  },
  {
   "cell_type": "markdown",
   "metadata": {},
   "source": [
    "We can see an enormous skewness towards the left for euros bet and won both by currencies and platforms. \\\n",
    "It means that most of the bets and euors won were small."
   ]
  },
  {
   "cell_type": "code",
   "execution_count": 179,
   "metadata": {},
   "outputs": [
    {
     "data": {
      "image/png": "[encoded data removed]",
      "text/plain": [
       "<Figure size 1200x1000 with 4 Axes>"
      ]
     },
     "metadata": {},
     "output_type": "display_data"
    }
   ],
   "source": [
    "fig, axes = plt.subplots(2, 2, figsize=(12, 10), sharex=True ,sharey=True)\n",
    "\n",
    "sns.histplot(data=df, x='stake_eur', hue='Currency', alpha=0.3, bins=200, element=\"step\", ax=axes[0, 0])\n",
    "axes[0, 0].set_title(\"Euros bet by currency\")\n",
    "axes[0, 0].set_ylim(0, 4000)\n",
    "axes[0, 0].set_xlim(0, 40)\n",
    "\n",
    "sns.histplot(data=df, x='won_eur', hue='Currency', alpha=0.3, bins=200, element=\"step\", ax=axes[0, 1])\n",
    "axes[0, 1].set_title(\"Euros won by currency\")\n",
    "axes[0, 1].set_ylim(0, 4000)\n",
    "axes[0, 1].set_xlim(0, 40)\n",
    "\n",
    "sns.histplot(data=df, x='stake_eur', hue='PlatformId', alpha=0.3, bins=200, element=\"step\", ax=axes[1, 0])\n",
    "axes[1, 0].set_title(\"Euros bet by platform\")\n",
    "axes[1, 0].set_ylim(0, 4000)\n",
    "axes[1, 0].set_xlim(0, 40)\n",
    "\n",
    "sns.histplot(data=df, x='won_eur', hue='PlatformId', alpha=0.3, bins=200, element=\"step\", ax=axes[1, 1])\n",
    "axes[1, 1].set_title(\"Euros won by platform\")\n",
    "axes[1, 1].set_ylim(0, 4000)\n",
    "axes[1, 1].set_xlim(0, 40)\n",
    "\n",
    "plt.show()"
   ]
  },
  {
   "cell_type": "code",
   "execution_count": null,
   "metadata": {},
   "outputs": [],
   "source": []
  },
  {
   "cell_type": "code",
   "execution_count": null,
   "metadata": {},
   "outputs": [],
   "source": []
  },
  {
   "cell_type": "markdown",
   "metadata": {},
   "source": [
    "Lets create a model where columns are metrics and rows are categories:\n",
    "- num_users - number of unique users\n",
    "- num_bets - number of bets made\n",
    "- avg_euros_bet - average amount of users bet\n",
    "- total_euros_bet - total amount of euros bet\n",
    "- total_euors_won - total amount of euors won\n",
    "- profit_euros - total profit generated in euros after subtracting euros won from euros bet\n",
    "- conversion - ratio of the total amount won to the total amount bet\n",
    "- avg_freq_bet - average amount of bets per user\n",
    "- peak_dow - peak day of the week when the most number of bets are made\n",
    "- peak_tod - peak time of the day when the most number of bets are made"
   ]
  },
  {
   "cell_type": "code",
   "execution_count": 136,
   "metadata": {},
   "outputs": [
    {
     "data": {
      "text/html": [
       "<div>\n",
       "<style scoped>\n",
       "    .dataframe tbody tr th:only-of-type {\n",
       "        vertical-align: middle;\n",
       "    }\n",
       "\n",
       "    .dataframe tbody tr th {\n",
       "        vertical-align: top;\n",
       "    }\n",
       "\n",
       "    .dataframe thead th {\n",
       "        text-align: right;\n",
       "    }\n",
       "</style>\n",
       "<table border=\"1\" class=\"dataframe\">\n",
       "  <thead>\n",
       "    <tr style=\"text-align: right;\">\n",
       "      <th></th>\n",
       "      <th></th>\n",
       "      <th>num_users</th>\n",
       "      <th>num_bets</th>\n",
       "      <th>avg_euros_bet</th>\n",
       "      <th>total_euros_bet</th>\n",
       "      <th>total_euros_won</th>\n",
       "      <th>profit_euros</th>\n",
       "      <th>conversion</th>\n",
       "      <th>avg_freq_bet</th>\n",
       "      <th>peak_dow</th>\n",
       "      <th>peak_tod</th>\n",
       "    </tr>\n",
       "    <tr>\n",
       "      <th>Currency</th>\n",
       "      <th>PlatformId</th>\n",
       "      <th></th>\n",
       "      <th></th>\n",
       "      <th></th>\n",
       "      <th></th>\n",
       "      <th></th>\n",
       "      <th></th>\n",
       "      <th></th>\n",
       "      <th></th>\n",
       "      <th></th>\n",
       "      <th></th>\n",
       "    </tr>\n",
       "  </thead>\n",
       "  <tbody>\n",
       "    <tr>\n",
       "      <th rowspan=\"2\" valign=\"top\">AZN</th>\n",
       "      <th>platform_2</th>\n",
       "      <td>579</td>\n",
       "      <td>3168</td>\n",
       "      <td>2.735565</td>\n",
       "      <td>8666.27</td>\n",
       "      <td>7102.65</td>\n",
       "      <td>1563.62</td>\n",
       "      <td>0.82</td>\n",
       "      <td>5.471503</td>\n",
       "      <td>Monday</td>\n",
       "      <td>evening</td>\n",
       "    </tr>\n",
       "    <tr>\n",
       "      <th>platform_3</th>\n",
       "      <td>1153</td>\n",
       "      <td>7575</td>\n",
       "      <td>2.113304</td>\n",
       "      <td>16008.28</td>\n",
       "      <td>15755.77</td>\n",
       "      <td>252.51</td>\n",
       "      <td>0.98</td>\n",
       "      <td>6.569818</td>\n",
       "      <td>Wednesday</td>\n",
       "      <td>evening</td>\n",
       "    </tr>\n",
       "    <tr>\n",
       "      <th rowspan=\"3\" valign=\"top\">INR</th>\n",
       "      <th>platform_2</th>\n",
       "      <td>1468</td>\n",
       "      <td>7769</td>\n",
       "      <td>1.941913</td>\n",
       "      <td>15086.72</td>\n",
       "      <td>12027.75</td>\n",
       "      <td>3058.97</td>\n",
       "      <td>0.80</td>\n",
       "      <td>5.292234</td>\n",
       "      <td>Thursday</td>\n",
       "      <td>morning</td>\n",
       "    </tr>\n",
       "    <tr>\n",
       "      <th>platform_3</th>\n",
       "      <td>1642</td>\n",
       "      <td>7078</td>\n",
       "      <td>1.373484</td>\n",
       "      <td>9721.52</td>\n",
       "      <td>8301.43</td>\n",
       "      <td>1420.09</td>\n",
       "      <td>0.85</td>\n",
       "      <td>4.310597</td>\n",
       "      <td>Tuesday</td>\n",
       "      <td>morning</td>\n",
       "    </tr>\n",
       "    <tr>\n",
       "      <th>platform_4</th>\n",
       "      <td>21</td>\n",
       "      <td>58</td>\n",
       "      <td>0.705345</td>\n",
       "      <td>40.91</td>\n",
       "      <td>31.30</td>\n",
       "      <td>9.61</td>\n",
       "      <td>0.77</td>\n",
       "      <td>2.761905</td>\n",
       "      <td>Monday</td>\n",
       "      <td>evening</td>\n",
       "    </tr>\n",
       "    <tr>\n",
       "      <th rowspan=\"3\" valign=\"top\">KZT</th>\n",
       "      <th>platform_1</th>\n",
       "      <td>11150</td>\n",
       "      <td>40363</td>\n",
       "      <td>0.837737</td>\n",
       "      <td>33813.58</td>\n",
       "      <td>35005.04</td>\n",
       "      <td>-1191.46</td>\n",
       "      <td>1.04</td>\n",
       "      <td>3.620000</td>\n",
       "      <td>Tuesday</td>\n",
       "      <td>morning</td>\n",
       "    </tr>\n",
       "    <tr>\n",
       "      <th>platform_2</th>\n",
       "      <td>3148</td>\n",
       "      <td>14381</td>\n",
       "      <td>1.989264</td>\n",
       "      <td>28607.60</td>\n",
       "      <td>25197.47</td>\n",
       "      <td>3410.13</td>\n",
       "      <td>0.88</td>\n",
       "      <td>4.568297</td>\n",
       "      <td>Tuesday</td>\n",
       "      <td>morning</td>\n",
       "    </tr>\n",
       "    <tr>\n",
       "      <th>platform_3</th>\n",
       "      <td>571</td>\n",
       "      <td>2288</td>\n",
       "      <td>0.771080</td>\n",
       "      <td>1764.23</td>\n",
       "      <td>2147.01</td>\n",
       "      <td>-382.78</td>\n",
       "      <td>1.22</td>\n",
       "      <td>4.007005</td>\n",
       "      <td>Monday</td>\n",
       "      <td>evening</td>\n",
       "    </tr>\n",
       "    <tr>\n",
       "      <th rowspan=\"3\" valign=\"top\">TRY</th>\n",
       "      <th>platform_2</th>\n",
       "      <td>737</td>\n",
       "      <td>3720</td>\n",
       "      <td>3.108680</td>\n",
       "      <td>11564.29</td>\n",
       "      <td>11223.21</td>\n",
       "      <td>341.08</td>\n",
       "      <td>0.97</td>\n",
       "      <td>5.047490</td>\n",
       "      <td>Tuesday</td>\n",
       "      <td>evening</td>\n",
       "    </tr>\n",
       "    <tr>\n",
       "      <th>platform_3</th>\n",
       "      <td>524</td>\n",
       "      <td>1896</td>\n",
       "      <td>4.064388</td>\n",
       "      <td>7706.08</td>\n",
       "      <td>5258.80</td>\n",
       "      <td>2447.28</td>\n",
       "      <td>0.68</td>\n",
       "      <td>3.618321</td>\n",
       "      <td>Tuesday</td>\n",
       "      <td>evening</td>\n",
       "    </tr>\n",
       "    <tr>\n",
       "      <th>platform_4</th>\n",
       "      <td>2443</td>\n",
       "      <td>11693</td>\n",
       "      <td>2.297385</td>\n",
       "      <td>26863.32</td>\n",
       "      <td>27058.17</td>\n",
       "      <td>-194.85</td>\n",
       "      <td>1.01</td>\n",
       "      <td>4.786328</td>\n",
       "      <td>Wednesday</td>\n",
       "      <td>evening</td>\n",
       "    </tr>\n",
       "  </tbody>\n",
       "</table>\n",
       "</div>"
      ],
      "text/plain": [
       "                     num_users  num_bets  avg_euros_bet  total_euros_bet  \\\n",
       "Currency PlatformId                                                        \n",
       "AZN      platform_2        579      3168       2.735565          8666.27   \n",
       "         platform_3       1153      7575       2.113304         16008.28   \n",
       "INR      platform_2       1468      7769       1.941913         15086.72   \n",
       "         platform_3       1642      7078       1.373484          9721.52   \n",
       "         platform_4         21        58       0.705345            40.91   \n",
       "KZT      platform_1      11150     40363       0.837737         33813.58   \n",
       "         platform_2       3148     14381       1.989264         28607.60   \n",
       "         platform_3        571      2288       0.771080          1764.23   \n",
       "TRY      platform_2        737      3720       3.108680         11564.29   \n",
       "         platform_3        524      1896       4.064388          7706.08   \n",
       "         platform_4       2443     11693       2.297385         26863.32   \n",
       "\n",
       "                     total_euros_won  profit_euros  conversion  avg_freq_bet  \\\n",
       "Currency PlatformId                                                            \n",
       "AZN      platform_2          7102.65       1563.62        0.82      5.471503   \n",
       "         platform_3         15755.77        252.51        0.98      6.569818   \n",
       "INR      platform_2         12027.75       3058.97        0.80      5.292234   \n",
       "         platform_3          8301.43       1420.09        0.85      4.310597   \n",
       "         platform_4            31.30          9.61        0.77      2.761905   \n",
       "KZT      platform_1         35005.04      -1191.46        1.04      3.620000   \n",
       "         platform_2         25197.47       3410.13        0.88      4.568297   \n",
       "         platform_3          2147.01       -382.78        1.22      4.007005   \n",
       "TRY      platform_2         11223.21        341.08        0.97      5.047490   \n",
       "         platform_3          5258.80       2447.28        0.68      3.618321   \n",
       "         platform_4         27058.17       -194.85        1.01      4.786328   \n",
       "\n",
       "                      peak_dow peak_tod  \n",
       "Currency PlatformId                      \n",
       "AZN      platform_2     Monday  evening  \n",
       "         platform_3  Wednesday  evening  \n",
       "INR      platform_2   Thursday  morning  \n",
       "         platform_3    Tuesday  morning  \n",
       "         platform_4     Monday  evening  \n",
       "KZT      platform_1    Tuesday  morning  \n",
       "         platform_2    Tuesday  morning  \n",
       "         platform_3     Monday  evening  \n",
       "TRY      platform_2    Tuesday  evening  \n",
       "         platform_3    Tuesday  evening  \n",
       "         platform_4  Wednesday  evening  "
      ]
     },
     "execution_count": 136,
     "metadata": {},
     "output_type": "execute_result"
    }
   ],
   "source": [
    "df['Day_of_Week'] = df.CreatedAt.dt.day_name()\n",
    "\n",
    "df['Hour'] = df.CreatedAt.dt.hour\n",
    "bins = [-1, 5, 12, 17, 24]\n",
    "labels = ['night', 'morning', 'afternoon', 'evening']\n",
    "df['Time_of_Day'] = pd.cut(df['Hour'], bins=bins, labels=labels, right=False)\n",
    "\n",
    "by_category = df.groupby([\"Currency\", \"PlatformId\"]) \\\n",
    "                .agg(num_users=('UserId', 'nunique'),\n",
    "                    num_bets=('MatchId', 'count'),\n",
    "                    avg_euros_bet=('stake_eur', 'mean'),\n",
    "                    total_euros_bet=('stake_eur', 'sum'),\n",
    "                    total_euros_won=('won_eur', 'sum'),\n",
    "                    peak_dow=('Day_of_Week', lambda x: x.mode().iloc[0]),\n",
    "                    peak_tod=('Time_of_Day', lambda x: x.mode().iloc[0]))\n",
    "\n",
    "by_category['profit_euros'] = by_category.total_euros_bet - by_category.total_euros_won\n",
    "\n",
    "by_category['conversion'] = (by_category.total_euros_won / by_category.total_euros_bet).round(2)\n",
    "\n",
    "num_bets = df.groupby(['Currency', 'PlatformId', 'UserId']) \\\n",
    "             .agg(bet_frequency=('CreatedAt', 'count')) \\\n",
    "             .reset_index() \\\n",
    "             .groupby(['Currency', 'PlatformId']) \\\n",
    "             .agg(avg_freq_bet=('bet_frequency', 'mean'))\n",
    "\n",
    "by_category = by_category.merge(num_bets, left_index=True, right_index=True)\n",
    "\n",
    "peak_dow_move = by_category.pop('peak_dow')\n",
    "by_category.insert(9, peak_dow_move.name, peak_dow_move)\n",
    "\n",
    "peak_tod_move = by_category.pop('peak_tod')\n",
    "by_category.insert(9, peak_tod_move.name, peak_tod_move)\n",
    "\n",
    "by_category"
   ]
  },
  {
   "cell_type": "markdown",
   "metadata": {},
   "source": [
    "As a result we can find several insights:\n",
    "- the most number of unique users, number of bets made, total euros bet, and total euros won come from Kazakhstan\n",
    "- platform 1 is used only in Kazakhstan and it generates the most users, bets made, euros bet, and euros won more than any other platform\n",
    "- the game is only losing money in Kazakhstan, but has a profit in other countries, especially in India\n",
    "- the conversion shows that roughly 80% of money bet comes back to the players and that in Kazakhstan players earn additional money\n",
    "- on average a player makes more than 3 bets, but in Azerbaijan it is almost twice that\n",
    "- players tend to bet in the first half of the week and either in the morning or evening\n",
    "- the most recurring peak times for betting are on Tuesdays in the evenings"
   ]
  },
  {
   "cell_type": "code",
   "execution_count": null,
   "metadata": {},
   "outputs": [],
   "source": []
  }
 ],
 "metadata": {
  "kernelspec": {
   "display_name": "Python 3",
   "language": "python",
   "name": "python3"
  },
  "language_info": {
   "codemirror_mode": {
    "name": "ipython",
    "version": 3
   },
   "file_extension": ".py",
   "mimetype": "text/x-python",
   "name": "python",
   "nbconvert_exporter": "python",
   "pygments_lexer": "ipython3",
   "version": "3.11.6"
  }
 },
 "nbformat": 4,
 "nbformat_minor": 2
}
