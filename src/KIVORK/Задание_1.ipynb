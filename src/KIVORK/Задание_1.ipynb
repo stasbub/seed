{
 "cells": [
  {
   "cell_type": "markdown",
   "metadata": {},
   "source": [
    "## Задание 1"
   ]
  },
  {
   "cell_type": "code",
   "execution_count": 239,
   "metadata": {},
   "outputs": [],
   "source": [
    "import pandas as pd\n",
    "from statsmodels.tsa.holtwinters import ExponentialSmoothing\n",
    "import matplotlib.pyplot as plt"
   ]
  },
  {
   "cell_type": "code",
   "execution_count": 240,
   "metadata": {},
   "outputs": [
    {
     "data": {
      "text/html": [
       "<div>\n",
       "<style scoped>\n",
       "    .dataframe tbody tr th:only-of-type {\n",
       "        vertical-align: middle;\n",
       "    }\n",
       "\n",
       "    .dataframe tbody tr th {\n",
       "        vertical-align: top;\n",
       "    }\n",
       "\n",
       "    .dataframe thead th {\n",
       "        text-align: right;\n",
       "    }\n",
       "</style>\n",
       "<table border=\"1\" class=\"dataframe\">\n",
       "  <thead>\n",
       "    <tr style=\"text-align: right;\">\n",
       "      <th></th>\n",
       "      <th>product_id</th>\n",
       "      <th>quantity</th>\n",
       "      <th>is_trial_period</th>\n",
       "      <th>purchase_date</th>\n",
       "      <th>user_id</th>\n",
       "    </tr>\n",
       "  </thead>\n",
       "  <tbody>\n",
       "    <tr>\n",
       "      <th>0</th>\n",
       "      <td>1week_4.99_USD_subscription_7days_trial</td>\n",
       "      <td>1</td>\n",
       "      <td>False</td>\n",
       "      <td>2020-02-19</td>\n",
       "      <td>9484222</td>\n",
       "    </tr>\n",
       "    <tr>\n",
       "      <th>1</th>\n",
       "      <td>1week_4.99_USD_subscription_7days_trial</td>\n",
       "      <td>1</td>\n",
       "      <td>False</td>\n",
       "      <td>2020-02-17</td>\n",
       "      <td>9422402</td>\n",
       "    </tr>\n",
       "    <tr>\n",
       "      <th>2</th>\n",
       "      <td>1week_4.99_USD_subscription_7days_trial</td>\n",
       "      <td>1</td>\n",
       "      <td>False</td>\n",
       "      <td>2020-02-18</td>\n",
       "      <td>4997991</td>\n",
       "    </tr>\n",
       "    <tr>\n",
       "      <th>3</th>\n",
       "      <td>1week_4.99_USD_subscription_7days_trial</td>\n",
       "      <td>1</td>\n",
       "      <td>False</td>\n",
       "      <td>2020-02-18</td>\n",
       "      <td>9455582</td>\n",
       "    </tr>\n",
       "    <tr>\n",
       "      <th>4</th>\n",
       "      <td>1week_4.99_USD_subscription_7days_trial</td>\n",
       "      <td>1</td>\n",
       "      <td>False</td>\n",
       "      <td>2020-02-16</td>\n",
       "      <td>8803657</td>\n",
       "    </tr>\n",
       "    <tr>\n",
       "      <th>...</th>\n",
       "      <td>...</td>\n",
       "      <td>...</td>\n",
       "      <td>...</td>\n",
       "      <td>...</td>\n",
       "      <td>...</td>\n",
       "    </tr>\n",
       "    <tr>\n",
       "      <th>114195</th>\n",
       "      <td>1week_4.99_USD_subscription_7days_trial</td>\n",
       "      <td>1</td>\n",
       "      <td>True</td>\n",
       "      <td>2020-01-04</td>\n",
       "      <td>8291100</td>\n",
       "    </tr>\n",
       "    <tr>\n",
       "      <th>114196</th>\n",
       "      <td>1week_4.99_USD_subscription_7days_trial</td>\n",
       "      <td>1</td>\n",
       "      <td>True</td>\n",
       "      <td>2020-01-02</td>\n",
       "      <td>8236936</td>\n",
       "    </tr>\n",
       "    <tr>\n",
       "      <th>114197</th>\n",
       "      <td>1week_4.99_USD_subscription_7days_trial</td>\n",
       "      <td>1</td>\n",
       "      <td>True</td>\n",
       "      <td>2020-01-03</td>\n",
       "      <td>8247910</td>\n",
       "    </tr>\n",
       "    <tr>\n",
       "      <th>114198</th>\n",
       "      <td>1week_4.99_USD_subscription_7days_trial</td>\n",
       "      <td>1</td>\n",
       "      <td>True</td>\n",
       "      <td>2020-01-04</td>\n",
       "      <td>8294146</td>\n",
       "    </tr>\n",
       "    <tr>\n",
       "      <th>114199</th>\n",
       "      <td>1week_4.99_USD_subscription_7days_trial</td>\n",
       "      <td>1</td>\n",
       "      <td>True</td>\n",
       "      <td>2020-01-03</td>\n",
       "      <td>8274954</td>\n",
       "    </tr>\n",
       "  </tbody>\n",
       "</table>\n",
       "<p>114200 rows × 5 columns</p>\n",
       "</div>"
      ],
      "text/plain": [
       "                                     product_id  quantity  is_trial_period  \\\n",
       "0       1week_4.99_USD_subscription_7days_trial         1            False   \n",
       "1       1week_4.99_USD_subscription_7days_trial         1            False   \n",
       "2       1week_4.99_USD_subscription_7days_trial         1            False   \n",
       "3       1week_4.99_USD_subscription_7days_trial         1            False   \n",
       "4       1week_4.99_USD_subscription_7days_trial         1            False   \n",
       "...                                         ...       ...              ...   \n",
       "114195  1week_4.99_USD_subscription_7days_trial         1             True   \n",
       "114196  1week_4.99_USD_subscription_7days_trial         1             True   \n",
       "114197  1week_4.99_USD_subscription_7days_trial         1             True   \n",
       "114198  1week_4.99_USD_subscription_7days_trial         1             True   \n",
       "114199  1week_4.99_USD_subscription_7days_trial         1             True   \n",
       "\n",
       "       purchase_date  user_id  \n",
       "0         2020-02-19  9484222  \n",
       "1         2020-02-17  9422402  \n",
       "2         2020-02-18  4997991  \n",
       "3         2020-02-18  9455582  \n",
       "4         2020-02-16  8803657  \n",
       "...              ...      ...  \n",
       "114195    2020-01-04  8291100  \n",
       "114196    2020-01-02  8236936  \n",
       "114197    2020-01-03  8247910  \n",
       "114198    2020-01-04  8294146  \n",
       "114199    2020-01-03  8274954  \n",
       "\n",
       "[114200 rows x 5 columns]"
      ]
     },
     "execution_count": 240,
     "metadata": {},
     "output_type": "execute_result"
    }
   ],
   "source": [
    "df = pd.read_excel(\"test_case_data_analyst.xlsx\")\n",
    "df"
   ]
  },
  {
   "cell_type": "markdown",
   "metadata": {},
   "source": [
    "### Задача 1"
   ]
  },
  {
   "cell_type": "code",
   "execution_count": 241,
   "metadata": {},
   "outputs": [
    {
     "data": {
      "text/html": [
       "<div>\n",
       "<style scoped>\n",
       "    .dataframe tbody tr th:only-of-type {\n",
       "        vertical-align: middle;\n",
       "    }\n",
       "\n",
       "    .dataframe tbody tr th {\n",
       "        vertical-align: top;\n",
       "    }\n",
       "\n",
       "    .dataframe thead th {\n",
       "        text-align: right;\n",
       "    }\n",
       "</style>\n",
       "<table border=\"1\" class=\"dataframe\">\n",
       "  <thead>\n",
       "    <tr style=\"text-align: right;\">\n",
       "      <th></th>\n",
       "      <th>purchase_date</th>\n",
       "    </tr>\n",
       "  </thead>\n",
       "  <tbody>\n",
       "    <tr>\n",
       "      <th>min_date</th>\n",
       "      <td>2020-01-01</td>\n",
       "    </tr>\n",
       "    <tr>\n",
       "      <th>max_date</th>\n",
       "      <td>2020-02-20</td>\n",
       "    </tr>\n",
       "  </tbody>\n",
       "</table>\n",
       "</div>"
      ],
      "text/plain": [
       "         purchase_date\n",
       "min_date    2020-01-01\n",
       "max_date    2020-02-20"
      ]
     },
     "execution_count": 241,
     "metadata": {},
     "output_type": "execute_result"
    }
   ],
   "source": [
    "df.agg(min_date=('purchase_date', 'min'), max_date=('purchase_date', 'max'))"
   ]
  },
  {
   "cell_type": "code",
   "execution_count": 242,
   "metadata": {},
   "outputs": [
    {
     "data": {
      "text/html": [
       "<div>\n",
       "<style scoped>\n",
       "    .dataframe tbody tr th:only-of-type {\n",
       "        vertical-align: middle;\n",
       "    }\n",
       "\n",
       "    .dataframe tbody tr th {\n",
       "        vertical-align: top;\n",
       "    }\n",
       "\n",
       "    .dataframe thead th {\n",
       "        text-align: right;\n",
       "    }\n",
       "</style>\n",
       "<table border=\"1\" class=\"dataframe\">\n",
       "  <thead>\n",
       "    <tr style=\"text-align: right;\">\n",
       "      <th></th>\n",
       "      <th>product_id</th>\n",
       "      <th>quantity</th>\n",
       "      <th>is_trial_period</th>\n",
       "      <th>purchase_date</th>\n",
       "      <th>user_id</th>\n",
       "    </tr>\n",
       "  </thead>\n",
       "  <tbody>\n",
       "    <tr>\n",
       "      <th>0</th>\n",
       "      <td>1week_4.99_USD_subscription_7days_trial</td>\n",
       "      <td>1</td>\n",
       "      <td>False</td>\n",
       "      <td>2020-02-19</td>\n",
       "      <td>9484222</td>\n",
       "    </tr>\n",
       "    <tr>\n",
       "      <th>101895</th>\n",
       "      <td>1week_4.99_USD_subscription_7days_trial</td>\n",
       "      <td>1</td>\n",
       "      <td>True</td>\n",
       "      <td>2020-02-12</td>\n",
       "      <td>9484222</td>\n",
       "    </tr>\n",
       "  </tbody>\n",
       "</table>\n",
       "</div>"
      ],
      "text/plain": [
       "                                     product_id  quantity  is_trial_period  \\\n",
       "0       1week_4.99_USD_subscription_7days_trial         1            False   \n",
       "101895  1week_4.99_USD_subscription_7days_trial         1             True   \n",
       "\n",
       "       purchase_date  user_id  \n",
       "0         2020-02-19  9484222  \n",
       "101895    2020-02-12  9484222  "
      ]
     },
     "execution_count": 242,
     "metadata": {},
     "output_type": "execute_result"
    }
   ],
   "source": [
    "df.query(\"user_id == 9484222\")"
   ]
  },
  {
   "cell_type": "code",
   "execution_count": 243,
   "metadata": {},
   "outputs": [
    {
     "name": "stderr",
     "output_type": "stream",
     "text": [
      "C:\\Users\\User\\AppData\\Local\\Temp\\ipykernel_5424\\1243486066.py:27: FutureWarning: The default of observed=False is deprecated and will be changed to True in a future version of pandas. Pass observed=False to retain current behavior or observed=True to adopt the future default and silence this warning.\n",
      "  cohort_table = df.groupby('week_cohorts').agg(mrr=('quantity', 'sum'), users=('user_id', 'nunique'), resubscribed=('resubscribed_users', 'sum'))\n"
     ]
    },
    {
     "data": {
      "text/html": [
       "<div>\n",
       "<style scoped>\n",
       "    .dataframe tbody tr th:only-of-type {\n",
       "        vertical-align: middle;\n",
       "    }\n",
       "\n",
       "    .dataframe tbody tr th {\n",
       "        vertical-align: top;\n",
       "    }\n",
       "\n",
       "    .dataframe thead th {\n",
       "        text-align: right;\n",
       "    }\n",
       "</style>\n",
       "<table border=\"1\" class=\"dataframe\">\n",
       "  <thead>\n",
       "    <tr style=\"text-align: right;\">\n",
       "      <th></th>\n",
       "      <th>mrr</th>\n",
       "      <th>users</th>\n",
       "      <th>resubscribed</th>\n",
       "      <th>shifted_users</th>\n",
       "      <th>ltv</th>\n",
       "      <th>week_cohorts</th>\n",
       "    </tr>\n",
       "    <tr>\n",
       "      <th>week_cohorts</th>\n",
       "      <th></th>\n",
       "      <th></th>\n",
       "      <th></th>\n",
       "      <th></th>\n",
       "      <th></th>\n",
       "      <th></th>\n",
       "    </tr>\n",
       "  </thead>\n",
       "  <tbody>\n",
       "    <tr>\n",
       "      <th>1</th>\n",
       "      <td>9194</td>\n",
       "      <td>9178</td>\n",
       "      <td>0</td>\n",
       "      <td>0.0</td>\n",
       "      <td>0.000</td>\n",
       "      <td>2019-12-31</td>\n",
       "    </tr>\n",
       "    <tr>\n",
       "      <th>2</th>\n",
       "      <td>12072</td>\n",
       "      <td>12054</td>\n",
       "      <td>3390</td>\n",
       "      <td>9178.0</td>\n",
       "      <td>1.588</td>\n",
       "      <td>2020-01-07</td>\n",
       "    </tr>\n",
       "    <tr>\n",
       "      <th>3</th>\n",
       "      <td>14734</td>\n",
       "      <td>14722</td>\n",
       "      <td>5664</td>\n",
       "      <td>12054.0</td>\n",
       "      <td>1.888</td>\n",
       "      <td>2020-01-14</td>\n",
       "    </tr>\n",
       "    <tr>\n",
       "      <th>4</th>\n",
       "      <td>15625</td>\n",
       "      <td>15602</td>\n",
       "      <td>7832</td>\n",
       "      <td>14722.0</td>\n",
       "      <td>2.140</td>\n",
       "      <td>2020-01-21</td>\n",
       "    </tr>\n",
       "    <tr>\n",
       "      <th>5</th>\n",
       "      <td>21075</td>\n",
       "      <td>19649</td>\n",
       "      <td>10381</td>\n",
       "      <td>15602.0</td>\n",
       "      <td>3.205</td>\n",
       "      <td>2020-01-28</td>\n",
       "    </tr>\n",
       "    <tr>\n",
       "      <th>6</th>\n",
       "      <td>19945</td>\n",
       "      <td>19927</td>\n",
       "      <td>10836</td>\n",
       "      <td>19649.0</td>\n",
       "      <td>2.232</td>\n",
       "      <td>2020-02-05</td>\n",
       "    </tr>\n",
       "    <tr>\n",
       "      <th>7</th>\n",
       "      <td>20630</td>\n",
       "      <td>20616</td>\n",
       "      <td>12067</td>\n",
       "      <td>19927.0</td>\n",
       "      <td>2.537</td>\n",
       "      <td>2020-02-12</td>\n",
       "    </tr>\n",
       "    <tr>\n",
       "      <th>8</th>\n",
       "      <td>925</td>\n",
       "      <td>925</td>\n",
       "      <td>670</td>\n",
       "      <td>20616.0</td>\n",
       "      <td>1.034</td>\n",
       "      <td>2020-02-19</td>\n",
       "    </tr>\n",
       "  </tbody>\n",
       "</table>\n",
       "</div>"
      ],
      "text/plain": [
       "                mrr  users  resubscribed  shifted_users    ltv week_cohorts\n",
       "week_cohorts                                                               \n",
       "1              9194   9178             0            0.0  0.000   2019-12-31\n",
       "2             12072  12054          3390         9178.0  1.588   2020-01-07\n",
       "3             14734  14722          5664        12054.0  1.888   2020-01-14\n",
       "4             15625  15602          7832        14722.0  2.140   2020-01-21\n",
       "5             21075  19649         10381        15602.0  3.205   2020-01-28\n",
       "6             19945  19927         10836        19649.0  2.232   2020-02-05\n",
       "7             20630  20616         12067        19927.0  2.537   2020-02-12\n",
       "8               925    925           670        20616.0  1.034   2020-02-19"
      ]
     },
     "execution_count": 243,
     "metadata": {},
     "output_type": "execute_result"
    }
   ],
   "source": [
    "df['purchase_date'] = pd.to_datetime(df['purchase_date'])\n",
    "\n",
    "custom_weeks = [pd.Timestamp('2019-12-31'), \n",
    "                pd.Timestamp('2020-01-07'),\n",
    "                pd.Timestamp('2020-01-14'), \n",
    "                pd.Timestamp('2020-01-21'),\n",
    "                pd.Timestamp('2020-01-28'),\n",
    "                pd.Timestamp('2020-02-05'), \n",
    "                pd.Timestamp('2020-02-12'),\n",
    "                pd.Timestamp('2020-02-19'),\n",
    "                pd.Timestamp('2020-02-26')]\n",
    "\n",
    "cohort_dates = df.groupby(\"user_id\").agg({\"purchase_date\": \"min\"}).reset_index()\n",
    "\n",
    "cohort_dates['week_origins'] = pd.cut(cohort_dates['purchase_date'], bins=custom_weeks, labels=[i+1 for i in range(len(custom_weeks)-1)])\n",
    "\n",
    "cohort_dates = cohort_dates.drop(\"purchase_date\", axis=1)\n",
    "\n",
    "df = df.merge(cohort_dates, on='user_id')\n",
    "\n",
    "df['week_cohorts'] = pd.cut(df['purchase_date'], bins=custom_weeks, labels=[i+1 for i in range(len(custom_weeks)-1)])\n",
    "\n",
    "df['weeks_from_before'] = df['week_cohorts'].astype(int) - df['week_origins'].astype(int)\n",
    "\n",
    "df['resubscribed_users'] = [1 if x > 0 else 0 for x in df['weeks_from_before']]\n",
    "\n",
    "cohort_table = df.groupby('week_cohorts').agg(mrr=('quantity', 'sum'), users=('user_id', 'nunique'), resubscribed=('resubscribed_users', 'sum'))\n",
    "\n",
    "cohort_table['shifted_users'] = cohort_table['users'].shift(1).fillna(0)\n",
    "\n",
    "cohort_table['ltv'] = ((cohort_table['mrr'] / cohort_table['users']) / ((cohort_table['shifted_users'] - cohort_table['resubscribed']) / cohort_table['shifted_users'])).fillna(0).round(3)\n",
    "\n",
    "# cohort_table = cohort_table.drop(['mrr', 'users', 'resubscribed', 'shifted_users'], axis=1).reset_index()\n",
    "\n",
    "cohort_table['week_cohorts'] = custom_weeks[:-1]\n",
    "\n",
    "cohort_table"
   ]
  },
  {
   "cell_type": "markdown",
   "metadata": {},
   "source": [
    "### Задача 2"
   ]
  },
  {
   "cell_type": "code",
   "execution_count": 244,
   "metadata": {},
   "outputs": [
    {
     "name": "stderr",
     "output_type": "stream",
     "text": [
      "C:\\Users\\User\\AppData\\Local\\Packages\\PythonSoftwareFoundation.Python.3.11_qbz5n2kfra8p0\\LocalCache\\local-packages\\Python311\\site-packages\\statsmodels\\tsa\\base\\tsa_model.py:473: ValueWarning: An unsupported index was provided and will be ignored when e.g. forecasting.\n",
      "  self._init_dates(dates, freq)\n",
      "C:\\Users\\User\\AppData\\Local\\Packages\\PythonSoftwareFoundation.Python.3.11_qbz5n2kfra8p0\\LocalCache\\local-packages\\Python311\\site-packages\\statsmodels\\tsa\\base\\tsa_model.py:836: ValueWarning: No supported index is available. Prediction results will be given with an integer index beginning at `start`.\n",
      "  return get_prediction_index(\n",
      "C:\\Users\\User\\AppData\\Local\\Packages\\PythonSoftwareFoundation.Python.3.11_qbz5n2kfra8p0\\LocalCache\\local-packages\\Python311\\site-packages\\statsmodels\\tsa\\base\\tsa_model.py:836: FutureWarning: No supported index is available. In the next version, calling this method in a model without a supported index will result in an exception.\n",
      "  return get_prediction_index(\n"
     ]
    },
    {
     "data": {
      "text/plain": [
       "8     2.521029\n",
       "9     2.394081\n",
       "10    2.308210\n",
       "11    2.665112\n",
       "12    1.839968\n",
       "dtype: float64"
      ]
     },
     "execution_count": 244,
     "metadata": {},
     "output_type": "execute_result"
    }
   ],
   "source": [
    "ltv_series = cohort_table['ltv']\n",
    "\n",
    "model = ExponentialSmoothing(ltv_series, seasonal='add', seasonal_periods=7, initialization_method='known', initial_seasonal=([1.0] * 7), initial_level=ltv_series.iloc[0])\n",
    "results = model.fit()\n",
    "forecast_values = results.forecast(steps=26)\n",
    "\n",
    "forecast_values.head()"
   ]
  },
  {
   "cell_type": "markdown",
   "metadata": {},
   "source": [
    "### Задача 3"
   ]
  },
  {
   "cell_type": "code",
   "execution_count": 245,
   "metadata": {},
   "outputs": [
    {
     "data": {
      "text/html": [
       "<div>\n",
       "<style scoped>\n",
       "    .dataframe tbody tr th:only-of-type {\n",
       "        vertical-align: middle;\n",
       "    }\n",
       "\n",
       "    .dataframe tbody tr th {\n",
       "        vertical-align: top;\n",
       "    }\n",
       "\n",
       "    .dataframe thead th {\n",
       "        text-align: right;\n",
       "    }\n",
       "</style>\n",
       "<table border=\"1\" class=\"dataframe\">\n",
       "  <thead>\n",
       "    <tr style=\"text-align: right;\">\n",
       "      <th></th>\n",
       "      <th>week_cohorts</th>\n",
       "      <th>ltv</th>\n",
       "    </tr>\n",
       "  </thead>\n",
       "  <tbody>\n",
       "    <tr>\n",
       "      <th>8</th>\n",
       "      <td>2020-02-26</td>\n",
       "      <td>2.521029</td>\n",
       "    </tr>\n",
       "    <tr>\n",
       "      <th>9</th>\n",
       "      <td>2020-03-04</td>\n",
       "      <td>2.394081</td>\n",
       "    </tr>\n",
       "    <tr>\n",
       "      <th>10</th>\n",
       "      <td>2020-03-11</td>\n",
       "      <td>2.308210</td>\n",
       "    </tr>\n",
       "    <tr>\n",
       "      <th>11</th>\n",
       "      <td>2020-03-18</td>\n",
       "      <td>2.665112</td>\n",
       "    </tr>\n",
       "    <tr>\n",
       "      <th>12</th>\n",
       "      <td>2020-03-25</td>\n",
       "      <td>1.839968</td>\n",
       "    </tr>\n",
       "  </tbody>\n",
       "</table>\n",
       "</div>"
      ],
      "text/plain": [
       "   week_cohorts       ltv\n",
       "8    2020-02-26  2.521029\n",
       "9    2020-03-04  2.394081\n",
       "10   2020-03-11  2.308210\n",
       "11   2020-03-18  2.665112\n",
       "12   2020-03-25  1.839968"
      ]
     },
     "execution_count": 245,
     "metadata": {},
     "output_type": "execute_result"
    }
   ],
   "source": [
    "forecast_df = pd.DataFrame({'week_cohorts': pd.date_range(start='2020-02-26', periods=26, freq='W-wed'), 'ltv': forecast_values})\n",
    "forecast_df.head()"
   ]
  },
  {
   "cell_type": "code",
   "execution_count": 246,
   "metadata": {},
   "outputs": [
    {
     "data": {
      "image/png": "[encoded data removed]",
      "text/plain": [
       "<Figure size 1000x600 with 1 Axes>"
      ]
     },
     "metadata": {},
     "output_type": "display_data"
    }
   ],
   "source": [
    "\n",
    "plt.figure(figsize=(10, 6))\n",
    "\n",
    "plt.plot(cohort_table.week_cohorts, cohort_table['ltv'], label='Actual LTV', color='blue', marker='o')\n",
    "\n",
    "plt.plot(forecast_df.week_cohorts, forecast_df['ltv'], label='Forecast LTV', linestyle='dotted', color='red', marker='o')\n",
    "\n",
    "plt.title('Weekly Values and Forecast')\n",
    "plt.xlabel('Weeks')\n",
    "plt.ylabel('Values')\n",
    "plt.legend()\n",
    "plt.grid(True)\n",
    "plt.show()"
   ]
  },
  {
   "cell_type": "markdown",
   "metadata": {},
   "source": [
    "### Задача 4"
   ]
  },
  {
   "cell_type": "code",
   "execution_count": 248,
   "metadata": {},
   "outputs": [
    {
     "data": {
      "text/html": [
       "<div>\n",
       "<style scoped>\n",
       "    .dataframe tbody tr th:only-of-type {\n",
       "        vertical-align: middle;\n",
       "    }\n",
       "\n",
       "    .dataframe tbody tr th {\n",
       "        vertical-align: top;\n",
       "    }\n",
       "\n",
       "    .dataframe thead th {\n",
       "        text-align: right;\n",
       "    }\n",
       "</style>\n",
       "<table border=\"1\" class=\"dataframe\">\n",
       "  <thead>\n",
       "    <tr style=\"text-align: right;\">\n",
       "      <th></th>\n",
       "      <th>week_cohorts</th>\n",
       "      <th>ltv</th>\n",
       "      <th>romi</th>\n",
       "    </tr>\n",
       "  </thead>\n",
       "  <tbody>\n",
       "    <tr>\n",
       "      <th>8</th>\n",
       "      <td>2020-02-26</td>\n",
       "      <td>2.521029</td>\n",
       "      <td>109.665593</td>\n",
       "    </tr>\n",
       "    <tr>\n",
       "      <th>9</th>\n",
       "      <td>2020-03-04</td>\n",
       "      <td>2.394081</td>\n",
       "      <td>99.107755</td>\n",
       "    </tr>\n",
       "    <tr>\n",
       "      <th>10</th>\n",
       "      <td>2020-03-11</td>\n",
       "      <td>2.308210</td>\n",
       "      <td>91.966168</td>\n",
       "    </tr>\n",
       "    <tr>\n",
       "      <th>11</th>\n",
       "      <td>2020-03-18</td>\n",
       "      <td>2.665112</td>\n",
       "      <td>121.648463</td>\n",
       "    </tr>\n",
       "    <tr>\n",
       "      <th>12</th>\n",
       "      <td>2020-03-25</td>\n",
       "      <td>1.839968</td>\n",
       "      <td>53.023980</td>\n",
       "    </tr>\n",
       "  </tbody>\n",
       "</table>\n",
       "</div>"
      ],
      "text/plain": [
       "   week_cohorts       ltv        romi\n",
       "8    2020-02-26  2.521029  109.665593\n",
       "9    2020-03-04  2.394081   99.107755\n",
       "10   2020-03-11  2.308210   91.966168\n",
       "11   2020-03-18  2.665112  121.648463\n",
       "12   2020-03-25  1.839968   53.023980"
      ]
     },
     "execution_count": 248,
     "metadata": {},
     "output_type": "execute_result"
    }
   ],
   "source": [
    "forecast_df['romi'] = ((forecast_df.ltv * 4.99) - 6.00) / 6.00 * 100\n",
    "forecast_df.head()"
   ]
  },
  {
   "cell_type": "markdown",
   "metadata": {},
   "source": [
    "Давайте посчитаем ROMI относительно следующих 4х недель."
   ]
  },
  {
   "cell_type": "code",
   "execution_count": 253,
   "metadata": {},
   "outputs": [
    {
     "data": {
      "text/plain": [
       "105.6"
      ]
     },
     "execution_count": 253,
     "metadata": {},
     "output_type": "execute_result"
    }
   ],
   "source": [
    "forecast_df[:4].romi.mean().round(1)"
   ]
  },
  {
   "cell_type": "markdown",
   "metadata": {},
   "source": [
    "Теперь расчитаем ROMI относитльно полугода."
   ]
  },
  {
   "cell_type": "code",
   "execution_count": 254,
   "metadata": {},
   "outputs": [
    {
     "data": {
      "text/plain": [
       "84.2"
      ]
     },
     "execution_count": 254,
     "metadata": {},
     "output_type": "execute_result"
    }
   ],
   "source": [
    "forecast_df.romi.mean().round(1)"
   ]
  },
  {
   "cell_type": "markdown",
   "metadata": {},
   "source": [
    "Как мы видим за следующие 4 недели, ROMI показывает что маректинговые расходы окупятся на небольшой процент в 5. \\\n",
    "6%. В то время как за следующие полгода продукт потерят 15% на маркетинговых затрат."
   ]
  },
  {
   "cell_type": "code",
   "execution_count": null,
   "metadata": {},
   "outputs": [],
   "source": []
  }
 ],
 "metadata": {
  "kernelspec": {
   "display_name": "Python 3",
   "language": "python",
   "name": "python3"
  },
  "language_info": {
   "codemirror_mode": {
    "name": "ipython",
    "version": 3
   },
   "file_extension": ".py",
   "mimetype": "text/x-python",
   "name": "python",
   "nbconvert_exporter": "python",
   "pygments_lexer": "ipython3",
   "version": "3.11.7"
  }
 },
 "nbformat": 4,
 "nbformat_minor": 2
}
